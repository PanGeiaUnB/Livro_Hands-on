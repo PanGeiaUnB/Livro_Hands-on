{
  "nbformat": 4,
  "nbformat_minor": 0,
  "metadata": {
    "colab": {
      "name": "PanGEIA - CNN.ipynb",
      "provenance": [],
      "collapsed_sections": [
        "QLed5WVxicQX",
        "-kcVrjSr2uQ3",
        "sa_qBIVosW6C",
        "MzOr3F6TgHG_",
        "oq-VFqtWDSIU"
      ]
    },
    "kernelspec": {
      "name": "python3",
      "display_name": "Python 3"
    },
    "language_info": {
      "name": "python"
    },
    "widgets": {
      "application/vnd.jupyter.widget-state+json": {
        "e93252557de449ba8b7a95346496db38": {
          "model_module": "@jupyter-widgets/controls",
          "model_name": "HBoxModel",
          "model_module_version": "1.5.0",
          "state": {
            "_view_name": "HBoxView",
            "_dom_classes": [],
            "_model_name": "HBoxModel",
            "_view_module": "@jupyter-widgets/controls",
            "_model_module_version": "1.5.0",
            "_view_count": null,
            "_view_module_version": "1.5.0",
            "box_style": "",
            "layout": "IPY_MODEL_a1103aeb67f64d82bc6cfb431c57bb6f",
            "_model_module": "@jupyter-widgets/controls",
            "children": [
              "IPY_MODEL_4540b2ad8ca741dca069ff9768f07b1c",
              "IPY_MODEL_7fcf9c399ff144b99a1bd423db4189b4"
            ]
          }
        },
        "a1103aeb67f64d82bc6cfb431c57bb6f": {
          "model_module": "@jupyter-widgets/base",
          "model_name": "LayoutModel",
          "model_module_version": "1.2.0",
          "state": {
            "_view_name": "LayoutView",
            "grid_template_rows": null,
            "right": null,
            "justify_content": null,
            "_view_module": "@jupyter-widgets/base",
            "overflow": null,
            "_model_module_version": "1.2.0",
            "_view_count": null,
            "flex_flow": null,
            "width": null,
            "min_width": null,
            "border": null,
            "align_items": null,
            "bottom": null,
            "_model_module": "@jupyter-widgets/base",
            "top": null,
            "grid_column": null,
            "overflow_y": null,
            "overflow_x": null,
            "grid_auto_flow": null,
            "grid_area": null,
            "grid_template_columns": null,
            "flex": null,
            "_model_name": "LayoutModel",
            "justify_items": null,
            "grid_row": null,
            "max_height": null,
            "align_content": null,
            "visibility": null,
            "align_self": null,
            "height": null,
            "min_height": null,
            "padding": null,
            "grid_auto_rows": null,
            "grid_gap": null,
            "max_width": null,
            "order": null,
            "_view_module_version": "1.2.0",
            "grid_template_areas": null,
            "object_position": null,
            "object_fit": null,
            "grid_auto_columns": null,
            "margin": null,
            "display": null,
            "left": null
          }
        },
        "4540b2ad8ca741dca069ff9768f07b1c": {
          "model_module": "@jupyter-widgets/controls",
          "model_name": "FloatProgressModel",
          "model_module_version": "1.5.0",
          "state": {
            "_view_name": "ProgressView",
            "style": "IPY_MODEL_335c01718ab040c9991f349bd0a893ce",
            "_dom_classes": [],
            "description": "",
            "_model_name": "FloatProgressModel",
            "bar_style": "success",
            "max": 9912422,
            "_view_module": "@jupyter-widgets/controls",
            "_model_module_version": "1.5.0",
            "value": 9912422,
            "_view_count": null,
            "_view_module_version": "1.5.0",
            "orientation": "horizontal",
            "min": 0,
            "description_tooltip": null,
            "_model_module": "@jupyter-widgets/controls",
            "layout": "IPY_MODEL_ca6c5184ddb345a9a7a8bc0155b61fc5"
          }
        },
        "7fcf9c399ff144b99a1bd423db4189b4": {
          "model_module": "@jupyter-widgets/controls",
          "model_name": "HTMLModel",
          "model_module_version": "1.5.0",
          "state": {
            "_view_name": "HTMLView",
            "style": "IPY_MODEL_5a6c006fa4264484bf9a1c257c783290",
            "_dom_classes": [],
            "description": "",
            "_model_name": "HTMLModel",
            "placeholder": "​",
            "_view_module": "@jupyter-widgets/controls",
            "_model_module_version": "1.5.0",
            "value": " 9913344/? [00:04&lt;00:00, 2305289.54it/s]",
            "_view_count": null,
            "_view_module_version": "1.5.0",
            "description_tooltip": null,
            "_model_module": "@jupyter-widgets/controls",
            "layout": "IPY_MODEL_61f3e052e25641bda7121ddf11989eb9"
          }
        },
        "335c01718ab040c9991f349bd0a893ce": {
          "model_module": "@jupyter-widgets/controls",
          "model_name": "ProgressStyleModel",
          "model_module_version": "1.5.0",
          "state": {
            "_view_name": "StyleView",
            "_model_name": "ProgressStyleModel",
            "description_width": "initial",
            "_view_module": "@jupyter-widgets/base",
            "_model_module_version": "1.5.0",
            "_view_count": null,
            "_view_module_version": "1.2.0",
            "bar_color": null,
            "_model_module": "@jupyter-widgets/controls"
          }
        },
        "ca6c5184ddb345a9a7a8bc0155b61fc5": {
          "model_module": "@jupyter-widgets/base",
          "model_name": "LayoutModel",
          "model_module_version": "1.2.0",
          "state": {
            "_view_name": "LayoutView",
            "grid_template_rows": null,
            "right": null,
            "justify_content": null,
            "_view_module": "@jupyter-widgets/base",
            "overflow": null,
            "_model_module_version": "1.2.0",
            "_view_count": null,
            "flex_flow": null,
            "width": null,
            "min_width": null,
            "border": null,
            "align_items": null,
            "bottom": null,
            "_model_module": "@jupyter-widgets/base",
            "top": null,
            "grid_column": null,
            "overflow_y": null,
            "overflow_x": null,
            "grid_auto_flow": null,
            "grid_area": null,
            "grid_template_columns": null,
            "flex": null,
            "_model_name": "LayoutModel",
            "justify_items": null,
            "grid_row": null,
            "max_height": null,
            "align_content": null,
            "visibility": null,
            "align_self": null,
            "height": null,
            "min_height": null,
            "padding": null,
            "grid_auto_rows": null,
            "grid_gap": null,
            "max_width": null,
            "order": null,
            "_view_module_version": "1.2.0",
            "grid_template_areas": null,
            "object_position": null,
            "object_fit": null,
            "grid_auto_columns": null,
            "margin": null,
            "display": null,
            "left": null
          }
        },
        "5a6c006fa4264484bf9a1c257c783290": {
          "model_module": "@jupyter-widgets/controls",
          "model_name": "DescriptionStyleModel",
          "model_module_version": "1.5.0",
          "state": {
            "_view_name": "StyleView",
            "_model_name": "DescriptionStyleModel",
            "description_width": "",
            "_view_module": "@jupyter-widgets/base",
            "_model_module_version": "1.5.0",
            "_view_count": null,
            "_view_module_version": "1.2.0",
            "_model_module": "@jupyter-widgets/controls"
          }
        },
        "61f3e052e25641bda7121ddf11989eb9": {
          "model_module": "@jupyter-widgets/base",
          "model_name": "LayoutModel",
          "model_module_version": "1.2.0",
          "state": {
            "_view_name": "LayoutView",
            "grid_template_rows": null,
            "right": null,
            "justify_content": null,
            "_view_module": "@jupyter-widgets/base",
            "overflow": null,
            "_model_module_version": "1.2.0",
            "_view_count": null,
            "flex_flow": null,
            "width": null,
            "min_width": null,
            "border": null,
            "align_items": null,
            "bottom": null,
            "_model_module": "@jupyter-widgets/base",
            "top": null,
            "grid_column": null,
            "overflow_y": null,
            "overflow_x": null,
            "grid_auto_flow": null,
            "grid_area": null,
            "grid_template_columns": null,
            "flex": null,
            "_model_name": "LayoutModel",
            "justify_items": null,
            "grid_row": null,
            "max_height": null,
            "align_content": null,
            "visibility": null,
            "align_self": null,
            "height": null,
            "min_height": null,
            "padding": null,
            "grid_auto_rows": null,
            "grid_gap": null,
            "max_width": null,
            "order": null,
            "_view_module_version": "1.2.0",
            "grid_template_areas": null,
            "object_position": null,
            "object_fit": null,
            "grid_auto_columns": null,
            "margin": null,
            "display": null,
            "left": null
          }
        },
        "f84008d255154939b6263e264e94285b": {
          "model_module": "@jupyter-widgets/controls",
          "model_name": "HBoxModel",
          "model_module_version": "1.5.0",
          "state": {
            "_view_name": "HBoxView",
            "_dom_classes": [],
            "_model_name": "HBoxModel",
            "_view_module": "@jupyter-widgets/controls",
            "_model_module_version": "1.5.0",
            "_view_count": null,
            "_view_module_version": "1.5.0",
            "box_style": "",
            "layout": "IPY_MODEL_7470fea1f47948a0a866a5f02d6b247f",
            "_model_module": "@jupyter-widgets/controls",
            "children": [
              "IPY_MODEL_8f81e46fb4e94c16b722dd2846c83d25",
              "IPY_MODEL_86d3f82324e944c2aca6fc31da82f5cb"
            ]
          }
        },
        "7470fea1f47948a0a866a5f02d6b247f": {
          "model_module": "@jupyter-widgets/base",
          "model_name": "LayoutModel",
          "model_module_version": "1.2.0",
          "state": {
            "_view_name": "LayoutView",
            "grid_template_rows": null,
            "right": null,
            "justify_content": null,
            "_view_module": "@jupyter-widgets/base",
            "overflow": null,
            "_model_module_version": "1.2.0",
            "_view_count": null,
            "flex_flow": null,
            "width": null,
            "min_width": null,
            "border": null,
            "align_items": null,
            "bottom": null,
            "_model_module": "@jupyter-widgets/base",
            "top": null,
            "grid_column": null,
            "overflow_y": null,
            "overflow_x": null,
            "grid_auto_flow": null,
            "grid_area": null,
            "grid_template_columns": null,
            "flex": null,
            "_model_name": "LayoutModel",
            "justify_items": null,
            "grid_row": null,
            "max_height": null,
            "align_content": null,
            "visibility": null,
            "align_self": null,
            "height": null,
            "min_height": null,
            "padding": null,
            "grid_auto_rows": null,
            "grid_gap": null,
            "max_width": null,
            "order": null,
            "_view_module_version": "1.2.0",
            "grid_template_areas": null,
            "object_position": null,
            "object_fit": null,
            "grid_auto_columns": null,
            "margin": null,
            "display": null,
            "left": null
          }
        },
        "8f81e46fb4e94c16b722dd2846c83d25": {
          "model_module": "@jupyter-widgets/controls",
          "model_name": "FloatProgressModel",
          "model_module_version": "1.5.0",
          "state": {
            "_view_name": "ProgressView",
            "style": "IPY_MODEL_268a82ba9e0e44da8a8c2c0b0839c96c",
            "_dom_classes": [],
            "description": "",
            "_model_name": "FloatProgressModel",
            "bar_style": "success",
            "max": 28881,
            "_view_module": "@jupyter-widgets/controls",
            "_model_module_version": "1.5.0",
            "value": 28881,
            "_view_count": null,
            "_view_module_version": "1.5.0",
            "orientation": "horizontal",
            "min": 0,
            "description_tooltip": null,
            "_model_module": "@jupyter-widgets/controls",
            "layout": "IPY_MODEL_b846ebb67b5842d185b5eec04550f6fa"
          }
        },
        "86d3f82324e944c2aca6fc31da82f5cb": {
          "model_module": "@jupyter-widgets/controls",
          "model_name": "HTMLModel",
          "model_module_version": "1.5.0",
          "state": {
            "_view_name": "HTMLView",
            "style": "IPY_MODEL_f70f579aa6aa46f080d51b1652a8449a",
            "_dom_classes": [],
            "description": "",
            "_model_name": "HTMLModel",
            "placeholder": "​",
            "_view_module": "@jupyter-widgets/controls",
            "_model_module_version": "1.5.0",
            "value": " 29696/? [00:02&lt;00:00, 12921.79it/s]",
            "_view_count": null,
            "_view_module_version": "1.5.0",
            "description_tooltip": null,
            "_model_module": "@jupyter-widgets/controls",
            "layout": "IPY_MODEL_37f21a20b6d04eb2a52c93f4beac8ec7"
          }
        },
        "268a82ba9e0e44da8a8c2c0b0839c96c": {
          "model_module": "@jupyter-widgets/controls",
          "model_name": "ProgressStyleModel",
          "model_module_version": "1.5.0",
          "state": {
            "_view_name": "StyleView",
            "_model_name": "ProgressStyleModel",
            "description_width": "initial",
            "_view_module": "@jupyter-widgets/base",
            "_model_module_version": "1.5.0",
            "_view_count": null,
            "_view_module_version": "1.2.0",
            "bar_color": null,
            "_model_module": "@jupyter-widgets/controls"
          }
        },
        "b846ebb67b5842d185b5eec04550f6fa": {
          "model_module": "@jupyter-widgets/base",
          "model_name": "LayoutModel",
          "model_module_version": "1.2.0",
          "state": {
            "_view_name": "LayoutView",
            "grid_template_rows": null,
            "right": null,
            "justify_content": null,
            "_view_module": "@jupyter-widgets/base",
            "overflow": null,
            "_model_module_version": "1.2.0",
            "_view_count": null,
            "flex_flow": null,
            "width": null,
            "min_width": null,
            "border": null,
            "align_items": null,
            "bottom": null,
            "_model_module": "@jupyter-widgets/base",
            "top": null,
            "grid_column": null,
            "overflow_y": null,
            "overflow_x": null,
            "grid_auto_flow": null,
            "grid_area": null,
            "grid_template_columns": null,
            "flex": null,
            "_model_name": "LayoutModel",
            "justify_items": null,
            "grid_row": null,
            "max_height": null,
            "align_content": null,
            "visibility": null,
            "align_self": null,
            "height": null,
            "min_height": null,
            "padding": null,
            "grid_auto_rows": null,
            "grid_gap": null,
            "max_width": null,
            "order": null,
            "_view_module_version": "1.2.0",
            "grid_template_areas": null,
            "object_position": null,
            "object_fit": null,
            "grid_auto_columns": null,
            "margin": null,
            "display": null,
            "left": null
          }
        },
        "f70f579aa6aa46f080d51b1652a8449a": {
          "model_module": "@jupyter-widgets/controls",
          "model_name": "DescriptionStyleModel",
          "model_module_version": "1.5.0",
          "state": {
            "_view_name": "StyleView",
            "_model_name": "DescriptionStyleModel",
            "description_width": "",
            "_view_module": "@jupyter-widgets/base",
            "_model_module_version": "1.5.0",
            "_view_count": null,
            "_view_module_version": "1.2.0",
            "_model_module": "@jupyter-widgets/controls"
          }
        },
        "37f21a20b6d04eb2a52c93f4beac8ec7": {
          "model_module": "@jupyter-widgets/base",
          "model_name": "LayoutModel",
          "model_module_version": "1.2.0",
          "state": {
            "_view_name": "LayoutView",
            "grid_template_rows": null,
            "right": null,
            "justify_content": null,
            "_view_module": "@jupyter-widgets/base",
            "overflow": null,
            "_model_module_version": "1.2.0",
            "_view_count": null,
            "flex_flow": null,
            "width": null,
            "min_width": null,
            "border": null,
            "align_items": null,
            "bottom": null,
            "_model_module": "@jupyter-widgets/base",
            "top": null,
            "grid_column": null,
            "overflow_y": null,
            "overflow_x": null,
            "grid_auto_flow": null,
            "grid_area": null,
            "grid_template_columns": null,
            "flex": null,
            "_model_name": "LayoutModel",
            "justify_items": null,
            "grid_row": null,
            "max_height": null,
            "align_content": null,
            "visibility": null,
            "align_self": null,
            "height": null,
            "min_height": null,
            "padding": null,
            "grid_auto_rows": null,
            "grid_gap": null,
            "max_width": null,
            "order": null,
            "_view_module_version": "1.2.0",
            "grid_template_areas": null,
            "object_position": null,
            "object_fit": null,
            "grid_auto_columns": null,
            "margin": null,
            "display": null,
            "left": null
          }
        },
        "028c928ab158492db7d19f8a5fce9d1b": {
          "model_module": "@jupyter-widgets/controls",
          "model_name": "HBoxModel",
          "model_module_version": "1.5.0",
          "state": {
            "_view_name": "HBoxView",
            "_dom_classes": [],
            "_model_name": "HBoxModel",
            "_view_module": "@jupyter-widgets/controls",
            "_model_module_version": "1.5.0",
            "_view_count": null,
            "_view_module_version": "1.5.0",
            "box_style": "",
            "layout": "IPY_MODEL_062fd2148c924fdcbbfc6344fc8b68de",
            "_model_module": "@jupyter-widgets/controls",
            "children": [
              "IPY_MODEL_0966f1eed29a469280b4f193f92b3146",
              "IPY_MODEL_c4f62b4c94874fdb88bf15629c1b698f"
            ]
          }
        },
        "062fd2148c924fdcbbfc6344fc8b68de": {
          "model_module": "@jupyter-widgets/base",
          "model_name": "LayoutModel",
          "model_module_version": "1.2.0",
          "state": {
            "_view_name": "LayoutView",
            "grid_template_rows": null,
            "right": null,
            "justify_content": null,
            "_view_module": "@jupyter-widgets/base",
            "overflow": null,
            "_model_module_version": "1.2.0",
            "_view_count": null,
            "flex_flow": null,
            "width": null,
            "min_width": null,
            "border": null,
            "align_items": null,
            "bottom": null,
            "_model_module": "@jupyter-widgets/base",
            "top": null,
            "grid_column": null,
            "overflow_y": null,
            "overflow_x": null,
            "grid_auto_flow": null,
            "grid_area": null,
            "grid_template_columns": null,
            "flex": null,
            "_model_name": "LayoutModel",
            "justify_items": null,
            "grid_row": null,
            "max_height": null,
            "align_content": null,
            "visibility": null,
            "align_self": null,
            "height": null,
            "min_height": null,
            "padding": null,
            "grid_auto_rows": null,
            "grid_gap": null,
            "max_width": null,
            "order": null,
            "_view_module_version": "1.2.0",
            "grid_template_areas": null,
            "object_position": null,
            "object_fit": null,
            "grid_auto_columns": null,
            "margin": null,
            "display": null,
            "left": null
          }
        },
        "0966f1eed29a469280b4f193f92b3146": {
          "model_module": "@jupyter-widgets/controls",
          "model_name": "FloatProgressModel",
          "model_module_version": "1.5.0",
          "state": {
            "_view_name": "ProgressView",
            "style": "IPY_MODEL_a2e3de34604e44e5a1a895ae67e32cd9",
            "_dom_classes": [],
            "description": "",
            "_model_name": "FloatProgressModel",
            "bar_style": "success",
            "max": 1648877,
            "_view_module": "@jupyter-widgets/controls",
            "_model_module_version": "1.5.0",
            "value": 1648877,
            "_view_count": null,
            "_view_module_version": "1.5.0",
            "orientation": "horizontal",
            "min": 0,
            "description_tooltip": null,
            "_model_module": "@jupyter-widgets/controls",
            "layout": "IPY_MODEL_fe95a65168a441fd9334d445bcc4ec4a"
          }
        },
        "c4f62b4c94874fdb88bf15629c1b698f": {
          "model_module": "@jupyter-widgets/controls",
          "model_name": "HTMLModel",
          "model_module_version": "1.5.0",
          "state": {
            "_view_name": "HTMLView",
            "style": "IPY_MODEL_0a1685dcba8045dca8dfc99cc112ab05",
            "_dom_classes": [],
            "description": "",
            "_model_name": "HTMLModel",
            "placeholder": "​",
            "_view_module": "@jupyter-widgets/controls",
            "_model_module_version": "1.5.0",
            "value": " 1649664/? [00:01&lt;00:00, 1155173.10it/s]",
            "_view_count": null,
            "_view_module_version": "1.5.0",
            "description_tooltip": null,
            "_model_module": "@jupyter-widgets/controls",
            "layout": "IPY_MODEL_01c571a8a0ad4abcbd07a4e41eb26c70"
          }
        },
        "a2e3de34604e44e5a1a895ae67e32cd9": {
          "model_module": "@jupyter-widgets/controls",
          "model_name": "ProgressStyleModel",
          "model_module_version": "1.5.0",
          "state": {
            "_view_name": "StyleView",
            "_model_name": "ProgressStyleModel",
            "description_width": "initial",
            "_view_module": "@jupyter-widgets/base",
            "_model_module_version": "1.5.0",
            "_view_count": null,
            "_view_module_version": "1.2.0",
            "bar_color": null,
            "_model_module": "@jupyter-widgets/controls"
          }
        },
        "fe95a65168a441fd9334d445bcc4ec4a": {
          "model_module": "@jupyter-widgets/base",
          "model_name": "LayoutModel",
          "model_module_version": "1.2.0",
          "state": {
            "_view_name": "LayoutView",
            "grid_template_rows": null,
            "right": null,
            "justify_content": null,
            "_view_module": "@jupyter-widgets/base",
            "overflow": null,
            "_model_module_version": "1.2.0",
            "_view_count": null,
            "flex_flow": null,
            "width": null,
            "min_width": null,
            "border": null,
            "align_items": null,
            "bottom": null,
            "_model_module": "@jupyter-widgets/base",
            "top": null,
            "grid_column": null,
            "overflow_y": null,
            "overflow_x": null,
            "grid_auto_flow": null,
            "grid_area": null,
            "grid_template_columns": null,
            "flex": null,
            "_model_name": "LayoutModel",
            "justify_items": null,
            "grid_row": null,
            "max_height": null,
            "align_content": null,
            "visibility": null,
            "align_self": null,
            "height": null,
            "min_height": null,
            "padding": null,
            "grid_auto_rows": null,
            "grid_gap": null,
            "max_width": null,
            "order": null,
            "_view_module_version": "1.2.0",
            "grid_template_areas": null,
            "object_position": null,
            "object_fit": null,
            "grid_auto_columns": null,
            "margin": null,
            "display": null,
            "left": null
          }
        },
        "0a1685dcba8045dca8dfc99cc112ab05": {
          "model_module": "@jupyter-widgets/controls",
          "model_name": "DescriptionStyleModel",
          "model_module_version": "1.5.0",
          "state": {
            "_view_name": "StyleView",
            "_model_name": "DescriptionStyleModel",
            "description_width": "",
            "_view_module": "@jupyter-widgets/base",
            "_model_module_version": "1.5.0",
            "_view_count": null,
            "_view_module_version": "1.2.0",
            "_model_module": "@jupyter-widgets/controls"
          }
        },
        "01c571a8a0ad4abcbd07a4e41eb26c70": {
          "model_module": "@jupyter-widgets/base",
          "model_name": "LayoutModel",
          "model_module_version": "1.2.0",
          "state": {
            "_view_name": "LayoutView",
            "grid_template_rows": null,
            "right": null,
            "justify_content": null,
            "_view_module": "@jupyter-widgets/base",
            "overflow": null,
            "_model_module_version": "1.2.0",
            "_view_count": null,
            "flex_flow": null,
            "width": null,
            "min_width": null,
            "border": null,
            "align_items": null,
            "bottom": null,
            "_model_module": "@jupyter-widgets/base",
            "top": null,
            "grid_column": null,
            "overflow_y": null,
            "overflow_x": null,
            "grid_auto_flow": null,
            "grid_area": null,
            "grid_template_columns": null,
            "flex": null,
            "_model_name": "LayoutModel",
            "justify_items": null,
            "grid_row": null,
            "max_height": null,
            "align_content": null,
            "visibility": null,
            "align_self": null,
            "height": null,
            "min_height": null,
            "padding": null,
            "grid_auto_rows": null,
            "grid_gap": null,
            "max_width": null,
            "order": null,
            "_view_module_version": "1.2.0",
            "grid_template_areas": null,
            "object_position": null,
            "object_fit": null,
            "grid_auto_columns": null,
            "margin": null,
            "display": null,
            "left": null
          }
        },
        "6d444389d7584367a3bb9a53e729826a": {
          "model_module": "@jupyter-widgets/controls",
          "model_name": "HBoxModel",
          "model_module_version": "1.5.0",
          "state": {
            "_view_name": "HBoxView",
            "_dom_classes": [],
            "_model_name": "HBoxModel",
            "_view_module": "@jupyter-widgets/controls",
            "_model_module_version": "1.5.0",
            "_view_count": null,
            "_view_module_version": "1.5.0",
            "box_style": "",
            "layout": "IPY_MODEL_20b6b007b7b740f5a3d967dd8cb026ae",
            "_model_module": "@jupyter-widgets/controls",
            "children": [
              "IPY_MODEL_03e803f48152445aaea847b68d87ad74",
              "IPY_MODEL_c5f0772cfc51411a95875276008b770d"
            ]
          }
        },
        "20b6b007b7b740f5a3d967dd8cb026ae": {
          "model_module": "@jupyter-widgets/base",
          "model_name": "LayoutModel",
          "model_module_version": "1.2.0",
          "state": {
            "_view_name": "LayoutView",
            "grid_template_rows": null,
            "right": null,
            "justify_content": null,
            "_view_module": "@jupyter-widgets/base",
            "overflow": null,
            "_model_module_version": "1.2.0",
            "_view_count": null,
            "flex_flow": null,
            "width": null,
            "min_width": null,
            "border": null,
            "align_items": null,
            "bottom": null,
            "_model_module": "@jupyter-widgets/base",
            "top": null,
            "grid_column": null,
            "overflow_y": null,
            "overflow_x": null,
            "grid_auto_flow": null,
            "grid_area": null,
            "grid_template_columns": null,
            "flex": null,
            "_model_name": "LayoutModel",
            "justify_items": null,
            "grid_row": null,
            "max_height": null,
            "align_content": null,
            "visibility": null,
            "align_self": null,
            "height": null,
            "min_height": null,
            "padding": null,
            "grid_auto_rows": null,
            "grid_gap": null,
            "max_width": null,
            "order": null,
            "_view_module_version": "1.2.0",
            "grid_template_areas": null,
            "object_position": null,
            "object_fit": null,
            "grid_auto_columns": null,
            "margin": null,
            "display": null,
            "left": null
          }
        },
        "03e803f48152445aaea847b68d87ad74": {
          "model_module": "@jupyter-widgets/controls",
          "model_name": "FloatProgressModel",
          "model_module_version": "1.5.0",
          "state": {
            "_view_name": "ProgressView",
            "style": "IPY_MODEL_20c8a40eb6484c159ec99810a07fbf23",
            "_dom_classes": [],
            "description": "",
            "_model_name": "FloatProgressModel",
            "bar_style": "success",
            "max": 4542,
            "_view_module": "@jupyter-widgets/controls",
            "_model_module_version": "1.5.0",
            "value": 4542,
            "_view_count": null,
            "_view_module_version": "1.5.0",
            "orientation": "horizontal",
            "min": 0,
            "description_tooltip": null,
            "_model_module": "@jupyter-widgets/controls",
            "layout": "IPY_MODEL_d7ce2593b85640feb7248effa4af1a91"
          }
        },
        "c5f0772cfc51411a95875276008b770d": {
          "model_module": "@jupyter-widgets/controls",
          "model_name": "HTMLModel",
          "model_module_version": "1.5.0",
          "state": {
            "_view_name": "HTMLView",
            "style": "IPY_MODEL_10297423d3034149bef59d6ad350c0a1",
            "_dom_classes": [],
            "description": "",
            "_model_name": "HTMLModel",
            "placeholder": "​",
            "_view_module": "@jupyter-widgets/controls",
            "_model_module_version": "1.5.0",
            "value": " 5120/? [00:00&lt;00:00, 52547.47it/s]",
            "_view_count": null,
            "_view_module_version": "1.5.0",
            "description_tooltip": null,
            "_model_module": "@jupyter-widgets/controls",
            "layout": "IPY_MODEL_8e8d3226aca44b159f00c855f636d57e"
          }
        },
        "20c8a40eb6484c159ec99810a07fbf23": {
          "model_module": "@jupyter-widgets/controls",
          "model_name": "ProgressStyleModel",
          "model_module_version": "1.5.0",
          "state": {
            "_view_name": "StyleView",
            "_model_name": "ProgressStyleModel",
            "description_width": "initial",
            "_view_module": "@jupyter-widgets/base",
            "_model_module_version": "1.5.0",
            "_view_count": null,
            "_view_module_version": "1.2.0",
            "bar_color": null,
            "_model_module": "@jupyter-widgets/controls"
          }
        },
        "d7ce2593b85640feb7248effa4af1a91": {
          "model_module": "@jupyter-widgets/base",
          "model_name": "LayoutModel",
          "model_module_version": "1.2.0",
          "state": {
            "_view_name": "LayoutView",
            "grid_template_rows": null,
            "right": null,
            "justify_content": null,
            "_view_module": "@jupyter-widgets/base",
            "overflow": null,
            "_model_module_version": "1.2.0",
            "_view_count": null,
            "flex_flow": null,
            "width": null,
            "min_width": null,
            "border": null,
            "align_items": null,
            "bottom": null,
            "_model_module": "@jupyter-widgets/base",
            "top": null,
            "grid_column": null,
            "overflow_y": null,
            "overflow_x": null,
            "grid_auto_flow": null,
            "grid_area": null,
            "grid_template_columns": null,
            "flex": null,
            "_model_name": "LayoutModel",
            "justify_items": null,
            "grid_row": null,
            "max_height": null,
            "align_content": null,
            "visibility": null,
            "align_self": null,
            "height": null,
            "min_height": null,
            "padding": null,
            "grid_auto_rows": null,
            "grid_gap": null,
            "max_width": null,
            "order": null,
            "_view_module_version": "1.2.0",
            "grid_template_areas": null,
            "object_position": null,
            "object_fit": null,
            "grid_auto_columns": null,
            "margin": null,
            "display": null,
            "left": null
          }
        },
        "10297423d3034149bef59d6ad350c0a1": {
          "model_module": "@jupyter-widgets/controls",
          "model_name": "DescriptionStyleModel",
          "model_module_version": "1.5.0",
          "state": {
            "_view_name": "StyleView",
            "_model_name": "DescriptionStyleModel",
            "description_width": "",
            "_view_module": "@jupyter-widgets/base",
            "_model_module_version": "1.5.0",
            "_view_count": null,
            "_view_module_version": "1.2.0",
            "_model_module": "@jupyter-widgets/controls"
          }
        },
        "8e8d3226aca44b159f00c855f636d57e": {
          "model_module": "@jupyter-widgets/base",
          "model_name": "LayoutModel",
          "model_module_version": "1.2.0",
          "state": {
            "_view_name": "LayoutView",
            "grid_template_rows": null,
            "right": null,
            "justify_content": null,
            "_view_module": "@jupyter-widgets/base",
            "overflow": null,
            "_model_module_version": "1.2.0",
            "_view_count": null,
            "flex_flow": null,
            "width": null,
            "min_width": null,
            "border": null,
            "align_items": null,
            "bottom": null,
            "_model_module": "@jupyter-widgets/base",
            "top": null,
            "grid_column": null,
            "overflow_y": null,
            "overflow_x": null,
            "grid_auto_flow": null,
            "grid_area": null,
            "grid_template_columns": null,
            "flex": null,
            "_model_name": "LayoutModel",
            "justify_items": null,
            "grid_row": null,
            "max_height": null,
            "align_content": null,
            "visibility": null,
            "align_self": null,
            "height": null,
            "min_height": null,
            "padding": null,
            "grid_auto_rows": null,
            "grid_gap": null,
            "max_width": null,
            "order": null,
            "_view_module_version": "1.2.0",
            "grid_template_areas": null,
            "object_position": null,
            "object_fit": null,
            "grid_auto_columns": null,
            "margin": null,
            "display": null,
            "left": null
          }
        },
        "e23b1fe1e61c43adb31065e57a4d9a05": {
          "model_module": "@jupyter-widgets/controls",
          "model_name": "HBoxModel",
          "model_module_version": "1.5.0",
          "state": {
            "_view_name": "HBoxView",
            "_dom_classes": [],
            "_model_name": "HBoxModel",
            "_view_module": "@jupyter-widgets/controls",
            "_model_module_version": "1.5.0",
            "_view_count": null,
            "_view_module_version": "1.5.0",
            "box_style": "",
            "layout": "IPY_MODEL_7786c27da252499ebc69754b7153ad72",
            "_model_module": "@jupyter-widgets/controls",
            "children": [
              "IPY_MODEL_3a798cef2347469bb45cf6629a483ad6",
              "IPY_MODEL_c9482d99b0fe4c3b9bbcf6cffa3b9cb8"
            ]
          }
        },
        "7786c27da252499ebc69754b7153ad72": {
          "model_module": "@jupyter-widgets/base",
          "model_name": "LayoutModel",
          "model_module_version": "1.2.0",
          "state": {
            "_view_name": "LayoutView",
            "grid_template_rows": null,
            "right": null,
            "justify_content": null,
            "_view_module": "@jupyter-widgets/base",
            "overflow": null,
            "_model_module_version": "1.2.0",
            "_view_count": null,
            "flex_flow": null,
            "width": null,
            "min_width": null,
            "border": null,
            "align_items": null,
            "bottom": null,
            "_model_module": "@jupyter-widgets/base",
            "top": null,
            "grid_column": null,
            "overflow_y": null,
            "overflow_x": null,
            "grid_auto_flow": null,
            "grid_area": null,
            "grid_template_columns": null,
            "flex": null,
            "_model_name": "LayoutModel",
            "justify_items": null,
            "grid_row": null,
            "max_height": null,
            "align_content": null,
            "visibility": null,
            "align_self": null,
            "height": null,
            "min_height": null,
            "padding": null,
            "grid_auto_rows": null,
            "grid_gap": null,
            "max_width": null,
            "order": null,
            "_view_module_version": "1.2.0",
            "grid_template_areas": null,
            "object_position": null,
            "object_fit": null,
            "grid_auto_columns": null,
            "margin": null,
            "display": null,
            "left": null
          }
        },
        "3a798cef2347469bb45cf6629a483ad6": {
          "model_module": "@jupyter-widgets/controls",
          "model_name": "FloatProgressModel",
          "model_module_version": "1.5.0",
          "state": {
            "_view_name": "ProgressView",
            "style": "IPY_MODEL_a2d7f80ab3f04f21858aebf93eea9c61",
            "_dom_classes": [],
            "description": "100%",
            "_model_name": "FloatProgressModel",
            "bar_style": "success",
            "max": 87319819,
            "_view_module": "@jupyter-widgets/controls",
            "_model_module_version": "1.5.0",
            "value": 87319819,
            "_view_count": null,
            "_view_module_version": "1.5.0",
            "orientation": "horizontal",
            "min": 0,
            "description_tooltip": null,
            "_model_module": "@jupyter-widgets/controls",
            "layout": "IPY_MODEL_866661525d8743be886c7d5a220aafdb"
          }
        },
        "c9482d99b0fe4c3b9bbcf6cffa3b9cb8": {
          "model_module": "@jupyter-widgets/controls",
          "model_name": "HTMLModel",
          "model_module_version": "1.5.0",
          "state": {
            "_view_name": "HTMLView",
            "style": "IPY_MODEL_6b56c979645f4998b820371afa53404e",
            "_dom_classes": [],
            "description": "",
            "_model_name": "HTMLModel",
            "placeholder": "​",
            "_view_module": "@jupyter-widgets/controls",
            "_model_module_version": "1.5.0",
            "value": " 83.3M/83.3M [00:02&lt;00:00, 35.7MB/s]",
            "_view_count": null,
            "_view_module_version": "1.5.0",
            "description_tooltip": null,
            "_model_module": "@jupyter-widgets/controls",
            "layout": "IPY_MODEL_72ebd3f42a284b52ae455ba181d77490"
          }
        },
        "a2d7f80ab3f04f21858aebf93eea9c61": {
          "model_module": "@jupyter-widgets/controls",
          "model_name": "ProgressStyleModel",
          "model_module_version": "1.5.0",
          "state": {
            "_view_name": "StyleView",
            "_model_name": "ProgressStyleModel",
            "description_width": "initial",
            "_view_module": "@jupyter-widgets/base",
            "_model_module_version": "1.5.0",
            "_view_count": null,
            "_view_module_version": "1.2.0",
            "bar_color": null,
            "_model_module": "@jupyter-widgets/controls"
          }
        },
        "866661525d8743be886c7d5a220aafdb": {
          "model_module": "@jupyter-widgets/base",
          "model_name": "LayoutModel",
          "model_module_version": "1.2.0",
          "state": {
            "_view_name": "LayoutView",
            "grid_template_rows": null,
            "right": null,
            "justify_content": null,
            "_view_module": "@jupyter-widgets/base",
            "overflow": null,
            "_model_module_version": "1.2.0",
            "_view_count": null,
            "flex_flow": null,
            "width": null,
            "min_width": null,
            "border": null,
            "align_items": null,
            "bottom": null,
            "_model_module": "@jupyter-widgets/base",
            "top": null,
            "grid_column": null,
            "overflow_y": null,
            "overflow_x": null,
            "grid_auto_flow": null,
            "grid_area": null,
            "grid_template_columns": null,
            "flex": null,
            "_model_name": "LayoutModel",
            "justify_items": null,
            "grid_row": null,
            "max_height": null,
            "align_content": null,
            "visibility": null,
            "align_self": null,
            "height": null,
            "min_height": null,
            "padding": null,
            "grid_auto_rows": null,
            "grid_gap": null,
            "max_width": null,
            "order": null,
            "_view_module_version": "1.2.0",
            "grid_template_areas": null,
            "object_position": null,
            "object_fit": null,
            "grid_auto_columns": null,
            "margin": null,
            "display": null,
            "left": null
          }
        },
        "6b56c979645f4998b820371afa53404e": {
          "model_module": "@jupyter-widgets/controls",
          "model_name": "DescriptionStyleModel",
          "model_module_version": "1.5.0",
          "state": {
            "_view_name": "StyleView",
            "_model_name": "DescriptionStyleModel",
            "description_width": "",
            "_view_module": "@jupyter-widgets/base",
            "_model_module_version": "1.5.0",
            "_view_count": null,
            "_view_module_version": "1.2.0",
            "_model_module": "@jupyter-widgets/controls"
          }
        },
        "72ebd3f42a284b52ae455ba181d77490": {
          "model_module": "@jupyter-widgets/base",
          "model_name": "LayoutModel",
          "model_module_version": "1.2.0",
          "state": {
            "_view_name": "LayoutView",
            "grid_template_rows": null,
            "right": null,
            "justify_content": null,
            "_view_module": "@jupyter-widgets/base",
            "overflow": null,
            "_model_module_version": "1.2.0",
            "_view_count": null,
            "flex_flow": null,
            "width": null,
            "min_width": null,
            "border": null,
            "align_items": null,
            "bottom": null,
            "_model_module": "@jupyter-widgets/base",
            "top": null,
            "grid_column": null,
            "overflow_y": null,
            "overflow_x": null,
            "grid_auto_flow": null,
            "grid_area": null,
            "grid_template_columns": null,
            "flex": null,
            "_model_name": "LayoutModel",
            "justify_items": null,
            "grid_row": null,
            "max_height": null,
            "align_content": null,
            "visibility": null,
            "align_self": null,
            "height": null,
            "min_height": null,
            "padding": null,
            "grid_auto_rows": null,
            "grid_gap": null,
            "max_width": null,
            "order": null,
            "_view_module_version": "1.2.0",
            "grid_template_areas": null,
            "object_position": null,
            "object_fit": null,
            "grid_auto_columns": null,
            "margin": null,
            "display": null,
            "left": null
          }
        }
      }
    }
  },
  "cells": [
    {
      "cell_type": "markdown",
      "metadata": {
        "id": "yWcDxsXD7B8A"
      },
      "source": [
        "# **Lição 2: Convolutional Neural Networks (CNNs)**"
      ]
    },
    {
      "cell_type": "markdown",
      "metadata": {
        "id": "rkPUWlx29axp"
      },
      "source": [
        "# 1. Introdução<a class=\"anchor\" name=\"section_1\"></a>"
      ]
    },
    {
      "cell_type": "markdown",
      "metadata": {
        "id": "TjstVQBN9zRR"
      },
      "source": [
        "### 1.1 Índice <a class=\"anchor\" name=\"section_1.1\"></a>\n",
        "\n",
        "* [1. Introdução](#section_1)\n",
        "    * [1.1 Índice](#section_1.1)\n",
        "    * [1.2 Como funcionam as CNNs](#section_1.2)\n",
        "      * [1.2.1 Camada de convolução (Convolutional Layer)](#section_1.2.1)\n",
        "      * [1.2.2 Camade de Pooling (Pooling Layer)](#section_1.2.2)\n",
        "      * [1.2.3 Camada Totalmente Conectada (Fully Connected Layer)](#section_1.2.3)\n",
        "\n",
        "* [2. Aprofundamento no processo de aprendizado](#section_2)\n",
        "    * [2.1 Parâmetros e hiperparâmetros](#section_2.1)\n",
        "    * [2.2 Overfitting](#section_2.2)\n",
        "    * [2.3 Separação o Dataset](#section_2.3)\n",
        "    * [2.4 Importando o Dataset](#section_2.4)\n",
        "\n",
        "* [3. Funções de ativação](#section_3)\n",
        "    * [3.1 Funções de ativação para hidden layers](#section_3.1)\n",
        "      * [3.1.1 Função sigmoide para hidden layers](#section_3.1.1)\n",
        "      * [3.1.2 Função tanh para hidden layers](#section_3.1.2)\n",
        "      * [3.1.3 Limitações das funções sigmoide e tanh](#section_3.1.3)\n",
        "      * [3.1.4 Função de ativação linear retificada (ReLU) para hidden layers](#section_3.1.4)\n",
        "    * [3.2 Dicas para a utilização da ReLU em CNNs](#section_3.2)\n",
        "      * [3.2.1 Use a ReLU como a função de ativação padrão](#section_3.2.1)\n",
        "      * [3.2.2 Teste um valor baixo para o viés (bias) no input](#section_3.2.2)\n",
        "      * [3.2.3 Use a inicialização de pesos *He initialization](#section_3.2.3)\n",
        "      * [3.2.4 Escale os dados de input](#section_3.2.4)\n",
        "      * [3.2.5 Use penalidade de pesos](#section_3.2.5)\n",
        "    * [3.3 Extensões e alternativas ao ReLU](#section_3.3)\n",
        "      * [3.3.1 Dying ReLU](#section_3.3.1)\n",
        "      * [3.3.2 Leaky ReLU](#section_3.3.2)\n",
        "      * [3.3.3 ELU](#section_3.3.3)\n",
        "    * [3.4 Ativação da camada de output](#section_3.4)\n",
        "      * [3.4.1 Função softmax](#section_3.4.1)\n",
        "\n",
        "* [4. Transfer Learning](#section_4)\n",
        "  * [4.1 introdução](#section_4.1)\n",
        "  * [4.2 Transfer Learning para reconhecimento de imagens](#section_4.2)\n",
        "  * [4.3 Como usar modelos pré-treinados](#section_4.3)\n",
        "\n",
        "* [5. Problema prático](#section_5)\n",
        "    \n",
        "* [6. Sugestões](#section_6)\n",
        "\n",
        "* [7. Referências Bibliográficas](#section_7)"
      ]
    },
    {
      "cell_type": "markdown",
      "metadata": {
        "id": "oKRhuYiU9nNi"
      },
      "source": [
        "#**1.2 Como funcionam as CNNs**<a class=\"anchor\" name=\"section_1.2\"></a>"
      ]
    },
    {
      "cell_type": "markdown",
      "metadata": {
        "id": "c-vttlSgQew8"
      },
      "source": [
        "CNN é um modelo de rede neural que tem por objetivo detectar padrões, o que permite extrair características essenciais da entrada, de forma a classificá-la como um todo. Os elementos de sua arquitetura são explicados a seguir: "
      ]
    },
    {
      "cell_type": "markdown",
      "metadata": {
        "id": "eBDoftboI5_j"
      },
      "source": [
        "###**1.2.1 Camada de Convolução (Convolutional Layer)**<a class=\"anchor\" name=\"section_1.2.1\"></a>\n",
        "\n",
        "A enfatização de características se baseia no processo de convolução, como é mostrado no GIF a seguir:\n",
        "\n",
        "\n",
        "![convolution.gif](https://aigeekprogrammer.com/wp-content/uploads/2019/12/CNN-filter-animation-1.gif)\n",
        "\n",
        " A partir de uma entrada, por exemplo uma imagem, são atribuídos diferentes pesos, em forma de matriz como mostrado acima, para cada aspecto da mesma, a fim de diferenciar cada um. São denominados \"Kernels\". As convoluções destes com a entrada geram filtros que permitem a extração das características para o reconhecimento da mesma.\n",
        "\n",
        " O número dessas camadas varia de acordo com a aplicação, possibilitando a identificação de padrões cada vez mais específicos e complexos.\n"
      ]
    },
    {
      "cell_type": "markdown",
      "metadata": {
        "id": "TzVnyxHnfS2c"
      },
      "source": [
        "###**1.2.2 Camada de Pooling (Pooling Layer)**<a class=\"anchor\" name=\"section_1.2.2\"></a>\n",
        "\n",
        "Extraem as características mais dominantes da saída da camada de convolução. O objetivo desta camada é o de diminuir o esforço computacional necessário para processar a entrada reduzindo os espaços de memória que as saídas da camada de convolução ocupam. Isto é feito através de duas principais formas: Substituindo essa saída, que é composta de vários valores para a mesma característica (representa a intensidade da característica naquele ponto), pelo maior valor entre elas (chamado de “Max Pooling”) ou pelo valor médio entre elas (chamado de “Average Pooling”).\n",
        "\n",
        "![input.gif](https://ichi.pro/assets/images/max/724/1*KQIEqhxzICU7thjaQBfPBQ.png)"
      ]
    },
    {
      "cell_type": "markdown",
      "metadata": {
        "id": "yC-MvQJngQZK"
      },
      "source": [
        "###**1.2.3 Camada Totalmente Conectada (Fully Connected Layer)**<a class=\"anchor\" name=\"section_1.2.3\"></a>\n",
        "\n",
        "Após passar pelas camadas acima, lembrando que podem ter várias de cada, sempre passando primeiro pela “Convolutional Layer” e depois pela “Pooling Layer”, depois para o próximo par de camadas, o próximo estágio é planificar a saída final dessas camadas para passar pela Camada Totalmente Conectada, que por sua vez aplica algoritmos de feedforward e backpropagation para: \n",
        " - Na fase de treinamento: Estabelecer quais características mais se correlacionam com a classe do objeto;  \n",
        " - Na aplicação: Comparar as características encontradas com as classes já conhecidas e decidir a qual classe a entrada inicial pertence. \n",
        "\n",
        "Uma visão geral da organização e do funcionamento de uma CNN se encontra na imagem a seguir:\n",
        "\n",
        " ![cnn.png](https://blog.kakaocdn.net/dn/cj56rk/btqHjqbQhq3/yTlqhHrblOESyQG6FubhIK/img.png)"
      ]
    },
    {
      "cell_type": "markdown",
      "metadata": {
        "id": "Rp_3RxXLf11S"
      },
      "source": [
        "##**2. Aprofundamento no processo de aprendizado** <a class=\"anchor\" name=\"section_2\"></a>"
      ]
    },
    {
      "cell_type": "markdown",
      "metadata": {
        "id": "qMZj9osHphN3"
      },
      "source": [
        "###**2.1 Parâmetros e Hiperparâmetros** <a class=\"anchor\" name=\"section_2.1\"></a>\n",
        "\n",
        "Com a seleção da arquitetura da rede, e observando o seu funcionamento, o próximo passo é melhorar o seu desempenho. Para isso, é necessário verificar alguns aspectos das redes. É possível fazer a distinção entre dois tipos de parâmetros, os chamados de parâmetros do modelo e hiperparâmetros. Os parâmetros são estimados pelo modelo a partir do dataset que lhe é fornecido. Os hiperparâmetros não são estimados pelo modelo. O objetivo dos hiperparâmetros é estimar os parâmetros do modelo, por exemplo os pesos da rede neural. A partir disso é possível compreender que na medida em que esses parâmetros são ajustados, ocorre um treinamento melhor da rede, proporcionando dessa forma resultados melhores. Alguns exemplos dos hiperparâmetros são: learning rate, o número de épocas, batch size.\n",
        "\n",
        "Para realizar os ajustes dos hiperparâmetros é possível fazer manualmente, isto é, realizar diversos testes sobre as diferentes combinações de hiperparâmetros. Dessa maneira, um simples algoritmo pode ser feito para realizar testes com cada combinação e salvar as configurações que demonstrassem um melhor resultado. No entanto, esse processo pode ser longo e exaustivo. Uma outra forma de buscar a otimização dos hiperparâmetros é através do uso de bibliotecas. FastAI é uma biblioteca que possibilita o ajuste dos hiperparâmetros. Dentro da otimização de parâmetros há uma área conhecida como AutoML. Nessa área são estudadas formas de aplicar o Machine Learning para buscar combinações dos hiperparâmetros que consigam ajudar no desempenho da rede. Para encontrar mais informações sobre o tópico é possível consultar [aqui](https://insaid.medium.com/automated-hyperparameter-tuning-988b5aeb7f2a).\n",
        "\n"
      ]
    },
    {
      "cell_type": "markdown",
      "metadata": {
        "id": "DLIUYYMzHJGO"
      },
      "source": [
        "###**2.2 Overfitting** <a class=\"anchor\" name=\"section_2.2\"></a>\n",
        "\n",
        "Um outro ponto bastante importante para o aprendizado das redes faz referência ao uso de uma técnica de separação dos datasets. Ao treinar os modelos sabemos que utilizamos um dataset com suas labels para ensinar ao modelo como fazer a classificação. No entanto, é necessário compreender que ao utilizar um mesmo dataset para treinar o seu modelo e avaliá-lo pode ser perigoso. Isso se deve ao fato de que com essa estratégia o modelo pode acabar caindo em um caso de overfitting.\n",
        "\n",
        "O overfitting acontece quando o modelo treinado começa a memorizar os dados que estão sendo usados para treiná-lo. Com o overfitting a acurácia do seu modelo para o dataset em questão será extremamente alta. No entanto, a acurácia mostrada estará mascarando o que de fato está acontecendo. Quando overfitting ocorre, o seu modelo começa a memorizar as labels do seu dataset ao invés de realmente realizar a sua classificação. Isso é ruim, tendo em vista que o objetivo do modelo é conseguir fazer predições de forma genérica e não para o dataset em questão. Uma forma de verificar o baixo desempenho da rede que tem problemas de overfitting é introduzir um dataset que nunca foi visto pela rede.Com isso, a rede não conseguirá fazer a classificação adequada para esse dataset, porque ela apenas memorizou o dataset em que foi treinada e não aprendeu, de fato, a realizar predições genéricas.\n",
        "\n",
        "![overfitting](https://miro.medium.com/max/700/1*Rhc8L0_Nuw374xMb05UnzA.png)\n",
        "\n",
        "A imagem apresenta diferentes casos para observar se está ou não acontecendo o overfitting. O comportamento ideal para a função de loss é que ela sempre diminua, mas com a separação do dataset é possível observar se a rede está apenas memorizando. Quando a função de custo do dataset de validação passa a crescer enquanto a loss do dataset de treinamento está decaindo, fica evidente o overfitting."
      ]
    },
    {
      "cell_type": "markdown",
      "metadata": {
        "id": "6w1LQfCLHIuK"
      },
      "source": [
        "###**2.3 Separação do dataset** <a class=\"anchor\" name=\"section_2.3\"></a>\n",
        "\n",
        "Uma técnica utilizada para evitar o overfitting das redes neurais é utilizar uma separação de datasets. Dessa forma é possível analisar melhor o comportamento da rede a ser treinada. Usualmente o dataset é divido em duas ou três partes (treinamento, teste e validação).\n",
        "\n",
        "\n",
        "*   **Dataset de Treinamento**\n",
        "\n",
        "  O dataset de treinamento é composto pela maior parte do dataset original (60%-80%). Essa divisão depende do tamanho do seu dataset original. É com esse dataset que o seu modelo será treinado, por isso a maior parte do dataset original fica contida nesse dataset.\n",
        "\n",
        "*   **Dataset de Teste**\n",
        "\n",
        "  O dataset de teste é composto por uma parcela menor do dataset original (10%-20%). Essa divisão pode ser feita pensando se serão utilizadas três ou duas divisões do dataset original. Para o caso em que o dataset contém apenas duas divisões (dataset de treinamento e de teste), o dataset corresponde ao restante do dataset original. Caso o dataset seja dividido em três partes, usualmente a parte restante do dataset é dividida igualmente entre os datasets de teste e validação. É com o dataset de teste que o será verificado se o seu modelo não está apresentando overfitting. \n",
        "\n",
        "*   **Dataset de Validação**\n",
        "\n",
        "  O dataset de validação é utilizado como uma outra forma de verificar o overfitting do modelo. Esse dataset nunca é visto pelo modelo, apenas no momento final de sua validação.\n",
        "\n",
        "Com a separação dos datasets o processo de treinamento ocorre da seguinte forma:\n",
        "\n",
        "\n",
        "1.   Primeiro a rede é treinada com o dataset de treinamento. Assim em uma época é possível observar a curva característica da loss em função das épocas. Com o passar das épocas espera-se que a loss caia.\n",
        "2.   O decrescimento da loss é um bom sinal. No entanto, deve ser avaliada a possibilidade de overfitting. Para isso, o dataset de teste pode ser utilizado para observar a curva de loss em função das épocas.\n",
        "3.   Caso a curva do dataset de treinamento esteja decrescendo bem como a curva do dataset de teste, não está acontecendo overfitting. Isso mostra que a rede está sendo capaz de classificar de forma genérica, tendo em vista que ela foi treinada com um dataset (treinamento), mas está conseguindo classificar corretamente um dataset em que não foi treinada (teste).\n",
        "4.   Em contrapartida, no caso em que a loss do dataset de treinamento está caindo, mas a loss do dataset de teste não está caindo, está acontecendo overfitting. Isso significa que a rede consegue classificar bem seu dataset de treinamento, mas não consegue classificar corretamente um dataset desconhecido. Em outras palavras, a sua rede está memorizando o dataset em que está sendo treinada e não aprendendo a classificar situações genéricas.\n",
        "5.    No caso da presença do dataset de validação, existe mais uma forma de observar se a sua rede está sendo treinada de forma eficiente. O dataset de validação não é utilizado no momento de treinamento da rede. Dessa forma, são dados completamente novos para a rede. Diferente do dataset de teste que é \"visto\" durante o processo de treinamento."
      ]
    },
    {
      "cell_type": "markdown",
      "metadata": {
        "id": "gDJdQlqtoNX2"
      },
      "source": [
        "\n",
        "\n",
        "```\n",
        "# Isto está formatado como código\n",
        "```\n",
        "\n",
        "###**2.4 Importando o Dataset** <a class=\"anchor\" name=\"section_2.4\"></a>\n",
        "\n",
        "A seguir, será dado um exemplo de como realizar a divisão do dataset. Para isso, será utilizado um dataset clássico para as CNN's, o MNIST."
      ]
    },
    {
      "cell_type": "code",
      "metadata": {
        "id": "qtbyKf-Yf2LS",
        "colab": {
          "base_uri": "https://localhost:8080/",
          "height": 811,
          "referenced_widgets": [
            "e93252557de449ba8b7a95346496db38",
            "a1103aeb67f64d82bc6cfb431c57bb6f",
            "4540b2ad8ca741dca069ff9768f07b1c",
            "7fcf9c399ff144b99a1bd423db4189b4",
            "335c01718ab040c9991f349bd0a893ce",
            "ca6c5184ddb345a9a7a8bc0155b61fc5",
            "5a6c006fa4264484bf9a1c257c783290",
            "61f3e052e25641bda7121ddf11989eb9",
            "f84008d255154939b6263e264e94285b",
            "7470fea1f47948a0a866a5f02d6b247f",
            "8f81e46fb4e94c16b722dd2846c83d25",
            "86d3f82324e944c2aca6fc31da82f5cb",
            "268a82ba9e0e44da8a8c2c0b0839c96c",
            "b846ebb67b5842d185b5eec04550f6fa",
            "f70f579aa6aa46f080d51b1652a8449a",
            "37f21a20b6d04eb2a52c93f4beac8ec7",
            "028c928ab158492db7d19f8a5fce9d1b",
            "062fd2148c924fdcbbfc6344fc8b68de",
            "0966f1eed29a469280b4f193f92b3146",
            "c4f62b4c94874fdb88bf15629c1b698f",
            "a2e3de34604e44e5a1a895ae67e32cd9",
            "fe95a65168a441fd9334d445bcc4ec4a",
            "0a1685dcba8045dca8dfc99cc112ab05",
            "01c571a8a0ad4abcbd07a4e41eb26c70",
            "6d444389d7584367a3bb9a53e729826a",
            "20b6b007b7b740f5a3d967dd8cb026ae",
            "03e803f48152445aaea847b68d87ad74",
            "c5f0772cfc51411a95875276008b770d",
            "20c8a40eb6484c159ec99810a07fbf23",
            "d7ce2593b85640feb7248effa4af1a91",
            "10297423d3034149bef59d6ad350c0a1",
            "8e8d3226aca44b159f00c855f636d57e"
          ]
        },
        "outputId": "366f3943-f931-48bd-f06b-439be5ade193"
      },
      "source": [
        "import torch\n",
        "import numpy as np\n",
        "import matplotlib.pyplot as plt\n",
        "import random as rd\n",
        "\n",
        "# modules to dataset\n",
        "from torchvision import datasets\n",
        "from torchvision import transforms\n",
        "from torchvision.datasets import ImageFolder\n",
        "from torch.utils.data import DataLoader, random_split\n",
        "\n",
        "transform = transforms.ToTensor() #Realizar a transformação do dataset para o formato de tensores\n",
        "data = datasets.MNIST(root='data', train=False, download=True, transform=transform) #Baixa o dataset mnist"
      ],
      "execution_count": null,
      "outputs": [
        {
          "output_type": "stream",
          "text": [
            "Downloading http://yann.lecun.com/exdb/mnist/train-images-idx3-ubyte.gz\n",
            "Failed to download (trying next):\n",
            "HTTP Error 503: Service Unavailable\n",
            "\n",
            "Downloading https://ossci-datasets.s3.amazonaws.com/mnist/train-images-idx3-ubyte.gz\n",
            "Downloading https://ossci-datasets.s3.amazonaws.com/mnist/train-images-idx3-ubyte.gz to data/MNIST/raw/train-images-idx3-ubyte.gz\n"
          ],
          "name": "stdout"
        },
        {
          "output_type": "display_data",
          "data": {
            "application/vnd.jupyter.widget-view+json": {
              "model_id": "e93252557de449ba8b7a95346496db38",
              "version_minor": 0,
              "version_major": 2
            },
            "text/plain": [
              "HBox(children=(FloatProgress(value=0.0, max=9912422.0), HTML(value='')))"
            ]
          },
          "metadata": {
            "tags": []
          }
        },
        {
          "output_type": "stream",
          "text": [
            "\n",
            "Extracting data/MNIST/raw/train-images-idx3-ubyte.gz to data/MNIST/raw\n",
            "\n",
            "Downloading http://yann.lecun.com/exdb/mnist/train-labels-idx1-ubyte.gz\n",
            "Failed to download (trying next):\n",
            "HTTP Error 503: Service Unavailable\n",
            "\n",
            "Downloading https://ossci-datasets.s3.amazonaws.com/mnist/train-labels-idx1-ubyte.gz\n",
            "Downloading https://ossci-datasets.s3.amazonaws.com/mnist/train-labels-idx1-ubyte.gz to data/MNIST/raw/train-labels-idx1-ubyte.gz\n"
          ],
          "name": "stdout"
        },
        {
          "output_type": "display_data",
          "data": {
            "application/vnd.jupyter.widget-view+json": {
              "model_id": "f84008d255154939b6263e264e94285b",
              "version_minor": 0,
              "version_major": 2
            },
            "text/plain": [
              "HBox(children=(FloatProgress(value=0.0, max=28881.0), HTML(value='')))"
            ]
          },
          "metadata": {
            "tags": []
          }
        },
        {
          "output_type": "stream",
          "text": [
            "\n",
            "Extracting data/MNIST/raw/train-labels-idx1-ubyte.gz to data/MNIST/raw\n",
            "\n",
            "Downloading http://yann.lecun.com/exdb/mnist/t10k-images-idx3-ubyte.gz\n",
            "Failed to download (trying next):\n",
            "HTTP Error 503: Service Unavailable\n",
            "\n",
            "Downloading https://ossci-datasets.s3.amazonaws.com/mnist/t10k-images-idx3-ubyte.gz\n",
            "Downloading https://ossci-datasets.s3.amazonaws.com/mnist/t10k-images-idx3-ubyte.gz to data/MNIST/raw/t10k-images-idx3-ubyte.gz\n"
          ],
          "name": "stdout"
        },
        {
          "output_type": "display_data",
          "data": {
            "application/vnd.jupyter.widget-view+json": {
              "model_id": "028c928ab158492db7d19f8a5fce9d1b",
              "version_minor": 0,
              "version_major": 2
            },
            "text/plain": [
              "HBox(children=(FloatProgress(value=0.0, max=1648877.0), HTML(value='')))"
            ]
          },
          "metadata": {
            "tags": []
          }
        },
        {
          "output_type": "stream",
          "text": [
            "\n",
            "Extracting data/MNIST/raw/t10k-images-idx3-ubyte.gz to data/MNIST/raw\n",
            "\n",
            "Downloading http://yann.lecun.com/exdb/mnist/t10k-labels-idx1-ubyte.gz\n",
            "Failed to download (trying next):\n",
            "HTTP Error 503: Service Unavailable\n",
            "\n",
            "Downloading https://ossci-datasets.s3.amazonaws.com/mnist/t10k-labels-idx1-ubyte.gz\n",
            "Downloading https://ossci-datasets.s3.amazonaws.com/mnist/t10k-labels-idx1-ubyte.gz to data/MNIST/raw/t10k-labels-idx1-ubyte.gz\n"
          ],
          "name": "stdout"
        },
        {
          "output_type": "display_data",
          "data": {
            "application/vnd.jupyter.widget-view+json": {
              "model_id": "6d444389d7584367a3bb9a53e729826a",
              "version_minor": 0,
              "version_major": 2
            },
            "text/plain": [
              "HBox(children=(FloatProgress(value=0.0, max=4542.0), HTML(value='')))"
            ]
          },
          "metadata": {
            "tags": []
          }
        },
        {
          "output_type": "stream",
          "text": [
            "\n",
            "Extracting data/MNIST/raw/t10k-labels-idx1-ubyte.gz to data/MNIST/raw\n",
            "\n"
          ],
          "name": "stdout"
        },
        {
          "output_type": "stream",
          "text": [
            "/usr/local/lib/python3.7/dist-packages/torchvision/datasets/mnist.py:498: UserWarning: The given NumPy array is not writeable, and PyTorch does not support non-writeable tensors. This means you can write to the underlying (supposedly non-writeable) NumPy array using the tensor. You may want to copy the array to protect its data or make it writeable before converting it to a tensor. This type of warning will be suppressed for the rest of this program. (Triggered internally at  /pytorch/torch/csrc/utils/tensor_numpy.cpp:180.)\n",
            "  return torch.from_numpy(parsed.astype(m[2], copy=False)).view(*s)\n"
          ],
          "name": "stderr"
        }
      ]
    },
    {
      "cell_type": "code",
      "metadata": {
        "id": "Y_228_3_kkA4",
        "colab": {
          "base_uri": "https://localhost:8080/"
        },
        "outputId": "40068d6d-fac2-4e42-e1bc-420b830310db"
      },
      "source": [
        "print('Total de imagens no dataset:', len(data)) #Mostra o total de imagens no dataset\n",
        "percentage = 75 #Indica a porcentagem de separação para o dataset de treinamento\n",
        "n_treino = round(len(data)* (percentage/100)) #Quantidade de imagens no dataset de treinamento\n",
        "n_teste = round(len(data)* (100 - percentage)/(2*100)) #Quantidade de imagens no dataset de teste\n",
        "n_valid = len(data) - n_treino - n_teste #Quantidade no dataset de validação\n",
        "\n",
        "#Mostra o número de imagens em cada dataset\n",
        "print('nº de imagens para treino: {:}'.format(n_treino) +'; nº de imagens para teste: {:}'.format(n_teste) +'; nº de imagens para validação: {:}'.format(n_valid) + '.')\n",
        "data_train, data_test, data_valid = random_split(data, [n_treino, n_teste, n_valid]) #Divide as imagens nos datasets a partir dos dados adquiridos de forma aleatória\n",
        "\n",
        "batch_size = 20 \n",
        "loader_train, loader_test, loader_valid = DataLoader(data_train, batch_size=batch_size), DataLoader(data_test, batch_size=batch_size), DataLoader(data_valid, batch_size=batch_size) #Monta os datasets a serem utilizados no treinamento da rede"
      ],
      "execution_count": null,
      "outputs": [
        {
          "output_type": "stream",
          "text": [
            "Total de imagens no dataset: 10000\n",
            "nº de imagens para treino: 7500; nº de imagens para teste: 1250; nº de imagens para validação: 1250.\n"
          ],
          "name": "stdout"
        }
      ]
    },
    {
      "cell_type": "code",
      "metadata": {
        "id": "hGbu2PAyotoJ",
        "colab": {
          "base_uri": "https://localhost:8080/",
          "height": 758
        },
        "outputId": "812c13bd-a72e-4606-8605-0c09e4ad6978"
      },
      "source": [
        "'''\n",
        "Plota uma imagem aleatória de cada um dos datasets e mostra a sua label\n",
        "'''\n",
        "cont = 0\n",
        "for img, label in  loader_train:\n",
        "  fig_treino = rd.randint(0, batch_size) #Escolhe um número aleatório para a figura que será mostrada\n",
        "  cont += 1\n",
        "  plt.figure() #Cria uma nova imagem\n",
        "  plt.title('Imagem do Dataset de Treino: {}'.format(label[fig_treino])) #Título da imagem contendo a sua label\n",
        "  plt.axis('off') #Esconde os eixos do plano cartesiano\n",
        "  plt.imshow(img[fig_treino,:,:].squeeze()) # Plota a imagem selecionada aleatoriamente do dataset de treinamento\n",
        "  if cont == 1:\n",
        "    #Mostra apenas uma imagem do dataset de treinamento\n",
        "    break\n",
        "\n",
        "cont = 0\n",
        "for img, label in  loader_test:\n",
        "  cont += 1\n",
        "  fig_teste = rd.randint(0, batch_size) #Escolhe um número aleatório para a figura que será mostrada\n",
        "  plt.figure() #Cria uma nova imagem\n",
        "  plt.title('Imagem do Dataset de Teste: {}'.format(label[fig_teste])) #Título da imagem contendo a sua label\n",
        "  plt.axis('off') #Esconde os eixos do plano cartesiano\n",
        "  plt.imshow(img[fig_teste,:,:].squeeze()) # Plota a imagem selecionada aleatoriamente do dataset de teste\n",
        "  if cont == 1:\n",
        "    #Mostra apenas uma imagem do dataset de teste\n",
        "    break\n",
        "\n",
        "cont = 0\n",
        "for img, label in  loader_valid:\n",
        "  cont += 1\n",
        "  fig_valid = rd.randint(0, batch_size) #Escolhe um número aleatório para a figura que será mostrada\n",
        "  plt.figure() #Cria uma nova imagem\n",
        "  plt.title('Imagem do Dataset de Validação: {}'.format(label[fig_valid])) #Título da imagem contendo a sua label\n",
        "  plt.axis('off') #Esconde os eixos do plano cartesiano\n",
        "  plt.imshow(img[fig_valid,:,:].squeeze()) # Plota a imagem selecionada aleatoriamente do dataset de validação\n",
        "  if cont == 1:\n",
        "    #Mostra apenas uma imagem do dataset de validação\n",
        "    break\n"
      ],
      "execution_count": null,
      "outputs": [
        {
          "output_type": "display_data",
          "data": {
            "image/png": "[encoded data removed]",
            "text/plain": [
              "<Figure size 432x288 with 1 Axes>"
            ]
          },
          "metadata": {
            "tags": [],
            "needs_background": "light"
          }
        },
        {
          "output_type": "display_data",
          "data": {
            "image/png": "[encoded data removed]",
            "text/plain": [
              "<Figure size 432x288 with 1 Axes>"
            ]
          },
          "metadata": {
            "tags": [],
            "needs_background": "light"
          }
        },
        {
          "output_type": "display_data",
          "data": {
            "image/png": "[encoded data removed]",
            "text/plain": [
              "<Figure size 432x288 with 1 Axes>"
            ]
          },
          "metadata": {
            "tags": [],
            "needs_background": "light"
          }
        }
      ]
    },
    {
      "cell_type": "markdown",
      "metadata": {
        "id": "QTHuOWlaf4sx"
      },
      "source": [
        "##**3. Funções de ativação** <a class=\"anchor\" name=\"section_3\"></a>"
      ]
    },
    {
      "cell_type": "markdown",
      "metadata": {
        "id": "k1ZArRN9gi2r"
      },
      "source": [
        "As funções de ativação são uma parte crítica do design de redes neurais. Elas são responsáveis por definir como a soma ponderada de um input é transformada no output de um nó em uma camada da rede.\n",
        "\n",
        "Como visto anteriormente, uma rede neural é composta por camadas de nós e aprende a mapear exemplos de inputs em outputs. Uma rede pode ter três tipos de camadas: camada de input, que recebe os inputs brutos; camadas escondidas ou hidden layers, que recebem inputs da camada anterior e passam um output para a camada seguinte; e a camada de output, que faz uma predição.\n",
        "\n",
        "Para cada nó, os inputs são multiplicados pelos pesos do nó e, por fim, somados. O valor desse somatório é conhecido como “somatório de ativação” do nó. Em seguida, o somatório de ativação é transformado através de uma **função de ativação**, que define um output específico para aquele nó.\n",
        "\n",
        "A escolha da função de ativação nas camadas escondidas (hidden layers) controlam o nível de aprendizagem de um modelo em relação ao dataset, ao passo que a escolha da função de ativação da camada de output vai definir o tipo de predição que o modelo pode fazer.\n",
        "\n",
        "Todas as camadas escondidas utilizam a mesma função de ativação. Já a camada de output geralmente utiliza uma função de ativação diferente da função utilizada nas camadas escondidas, dependendo do tipo de predição que o modelo requer.\n",
        "\n",
        "Outra característica das funções de ativação é que elas são diferenciáveis, ou seja, é possível calcular a derivada de primeira ordem dessas funções. Essa característica é importante já que boa parte das redes é treinada com algoritmos de backpropagation, que utilizam a derivada dos valores para atualizar os pesos do modelo.\n",
        "\n",
        "Nesta parta do livro, vamos citar as principais funções de ativação e entender qual o melhor momento para utilizar cada uma delas.\n"
      ]
    },
    {
      "cell_type": "markdown",
      "metadata": {
        "id": "QLed5WVxicQX"
      },
      "source": [
        "###**3.1 Funções de ativação para hidden layers** <a class=\"anchor\" name=\"section_3.1\"></a>\n",
        "\n",
        "Existem várias funções de ativação que podem ser utilizadas em redes neurais, porém só uma pequena parcela é utilizada na prática.\n",
        "\n",
        "O tipo mais simples de função de ativação é a ativação linear, onde nenhuma transformação é aplicada. Uma rede que utiliza esse tipo de função é muito fácil de ser treinada, porém não consegue aprender estruturas mais complexas. \n",
        "\n",
        "As funções não lineares são preferidas pois permitem que os nós aprendam estruturas mais complexas nos dados. Tradicionalmente, as duas funções não lineares mais usadas nas camadas escondidas são a **sigmoide** e a **tangente hiperbólica**, também chamada de tanh."
      ]
    },
    {
      "cell_type": "markdown",
      "metadata": {
        "id": "YUUnDaDnixxI"
      },
      "source": [
        "####**3.1.1 Função sigmoide para hidden layers** <a class=\"anchor\" name=\"section_3.1.1\"></a>\n",
        "\n",
        "A função de ativação sigmoide também é chamada de função logística. É a mesma função utilizada em algoritmos de regressão logística para classificação.\n",
        "\n",
        "Essa função recebe qualquer valor real como input e retorna como output um valor no intervalo de 0 à 1. Quanto maior for o valor de input, o output fica mais próximo de 1, da mesma forma que quanto menor for o valor de input, o output fica mais próximo de 0.\n",
        "\n",
        "A função é calculada pela equação 1 / (1 + e-x) e tem um formato de “S”."
      ]
    },
    {
      "cell_type": "code",
      "metadata": {
        "colab": {
          "base_uri": "https://localhost:8080/",
          "height": 265
        },
        "id": "Ir36Jvb8f44K",
        "outputId": "aab2ddde-5b98-474e-ceaa-b342b0b5080b"
      },
      "source": [
        "from math import exp\n",
        "from matplotlib import pyplot\n",
        "\n",
        "#função de ativação sigmoide\n",
        "def sigmoid(x):\n",
        "  return 1.0/(1.0 + exp(-x))\n",
        "\n",
        "#definindo dados de input\n",
        "inputs = [x for x in range(-10, 10)]\n",
        "\n",
        "#calculando outputs\n",
        "outputs = [sigmoid(x) for x in inputs]\n",
        "\n",
        "#plotando gráfico de inputs vs outputs\n",
        "pyplot.plot(inputs, outputs)\n",
        "pyplot.show()"
      ],
      "execution_count": null,
      "outputs": [
        {
          "output_type": "display_data",
          "data": {
            "image/png": "[encoded data removed]",
            "text/plain": [
              "<Figure size 432x288 with 1 Axes>"
            ]
          },
          "metadata": {
            "tags": [],
            "needs_background": "light"
          }
        }
      ]
    },
    {
      "cell_type": "markdown",
      "metadata": {
        "id": "EM2fFg1Yjs1E"
      },
      "source": [
        "Quando utilizamos a função sigmoide para as camadas escondidas, é uma boa prática usar a inicialização de pesos [Xavier Normal](https://towardsdatascience.com/weight-initialization-in-neural-networks-a-journey-from-the-basics-to-kaiming-954fb9b47c79) e escalar os dados de input para o intervalo entre 0 e 1 antes do treinamento.\n"
      ]
    },
    {
      "cell_type": "markdown",
      "metadata": {
        "id": "Kn-v91xYkKk6"
      },
      "source": [
        "####**3.1.2 Função tanh para hidden layers** <a class=\"anchor\" name=\"section_3.1.2\"></a>\n",
        "\n",
        "A função tanh é muito parecida com a função sigmoide e tem o mesmo formato de “S”. Essa função recebe qualquer valor real como input e retorna como output um valor entre -1 e 1. Quanto maior (mais positivo) for o valor de input, o output fica mais próximo de 1, da mesma forma que quanto menor (mais negativo) for o valor de input, o output fica mais próximo de -1.\n",
        "\n",
        "A função tanh é calculada pela equação (e<sup>x</sup> - e<sup>-x</sup>) / (e<sup>x</sup> + e<sup>-x</sup>)"
      ]
    },
    {
      "cell_type": "code",
      "metadata": {
        "colab": {
          "base_uri": "https://localhost:8080/",
          "height": 265
        },
        "id": "q_Rq0czekcMU",
        "outputId": "61767aaa-a831-4fa7-eb18-ed65e497c9f6"
      },
      "source": [
        "from math import exp\n",
        "from matplotlib import pyplot\n",
        "\n",
        "#função de ativação tanh\n",
        "def tanh(x):\n",
        "  return (exp(x) - exp(-x)) / (exp(x) + exp(-x))\n",
        "\n",
        "#definindo dados de input\n",
        "inputs = [x for x in range(-10, 10)]\n",
        "\n",
        "#calculando outputs\n",
        "outputs = [tanh(x) for x in inputs]\n",
        "\n",
        "#plotando gráfico de inputs vs outputs\n",
        "pyplot.plot(inputs, outputs)\n",
        "pyplot.show()"
      ],
      "execution_count": null,
      "outputs": [
        {
          "output_type": "display_data",
          "data": {
            "image/png": "[encoded data removed]",
            "text/plain": [
              "<Figure size 432x288 with 1 Axes>"
            ]
          },
          "metadata": {
            "tags": [],
            "needs_background": "light"
          }
        }
      ]
    },
    {
      "cell_type": "markdown",
      "metadata": {
        "id": "6kpdx_b1lGIa"
      },
      "source": [
        "Assim como na utilização da função sigmoide, quando utilizamos a função tanh para as camadas escondidas é uma boa prática usar a inicialização de pesos [Xavier Normal](https://towardsdatascience.com/weight-initialization-in-neural-networks-a-journey-from-the-basics-to-kaiming-954fb9b47c79) e escalar os dados de input para o intervalo entre -1 e 1 antes do treinamento."
      ]
    },
    {
      "cell_type": "markdown",
      "metadata": {
        "id": "zgRS990_lQCf"
      },
      "source": [
        "####**3.1.3 Limitações das funções sigmoide e tanh** <a class=\"anchor\" name=\"section_3.1.3\"></a>\n",
        "\n",
        "**Vanishing Gradients**\n",
        "\n",
        "O grande problema das funções sigmoide e tanh é que elas saturam. Isso significa que valores muito altos são ajustados para 1.0, e valores muito baixos são ajustados para 0 ou -1 no caso da sigmoide e tanh, respectivamente. Além disso, essas funções só são realmente sensíveis a mudanças que estejam por volta de seus valores médios, que são 0.5 para a sigmoide e 0.0 para a tanh. \n",
        "\n",
        "Ao utilizar essas funções no treinamento de redes com muitas camadas (ou deep neural networks) o gradiente diminui drásticamente ao passo que ele é propagado de volta na rede durante o backpropagation. O erro pode se tornar tão pequeno ao alcançar as camadas próximas à camada de input do modelo que seu efeito se torna praticamente desprezável, causando o \"desligamento\" de alguns nós.\n",
        "\n",
        "Essa limitação na sensibilidade e saturação das funções acontece independentemente se somatório de ativação do nó fornecido como input contém informações relevantes ou não. Dessa forma, podemos acabar desligando alguns nós de grande relevância para o aprendizado da rede. Ou seja, uma vez que se torna saturado, o algoritmo de aprendizado fica com muita dificuldade em adaptar os pesos para melhorar a performance do modelo.\n",
        "\n",
        "\"*Vanishin gradients torna difícil saber para qual direção os parâmetros deveriam se mover para melhorar a função de custo*\"\n",
        "\n",
        "- [Deep Learning](https://www.amazon.com.br/Learning-Adaptive-Computation-Machine-English-ebook/dp/B08FH8Y533/ref=sr_1_2?__mk_pt_BR=%C3%85M%C3%85%C5%BD%C3%95%C3%91&crid=2F1F0PQ7HO720&dchild=1&keywords=deep+learning&qid=1626780688&sprefix=deep+lear%2Caps%2C293&sr=8-2), 2016.\n",
        "\n",
        "\n",
        "**<h4>Custo computacional</h4>**\n",
        "\n",
        "Um outro problema da utilização das funções exponenciais como a sigmoide e a tanh é que, para redes muito profundas, o custo computacional ainda é muito alto, mesmo com os grandes avanços nas capacidades de hardware com as GPUs. Em outras palavras, uma rede neural profunda não pode ser facilmente treinada com o uso de funções mais complexas."
      ]
    },
    {
      "cell_type": "markdown",
      "metadata": {
        "id": "xBUs3Xkalf5S"
      },
      "source": [
        "####**3.1.4 Função de ativação linear retificada (ReLU) para hidden layers** <a class=\"anchor\" name=\"section_3.1.4\"></a>\n",
        "\n",
        "Para que possamos usar o gradient descent com o backpropagation dos erros para treinar redes neurais profundas, é necessário uma função de ativação que se comporte como uma função linear, mas é, de fato, uma função não-linear que permita que o modelo aprenda relacionamentos complexos sobre os dados de input.\n",
        "\n",
        "Essa função também precisa prover uma maior sensibilidade aos somatórios de ativação que recebe como input e deve evitar a saturação.\n",
        "\n",
        "A solução é utilizar a **função linear retificada**, ou ReL (rectified linear). Um nó ou uma unidade que implementa essa função de ativação é chamado de unidade de ativação linear retificada, ou **ReLU** (rectified linear activation unit). Frequentemente, as redes que usam essa função para suas camadas escondidas são chamadas de redes retificadas (rectified networks).\n",
        "\n",
        "A adoção da ReLU pode facilmente ser considerada um marco na revolução do deep learning, por ser a técnica que permite o desenvolvimento rotineiro de redes neurais muito profundas.\n",
        "\n",
        "A função ReL é um cálculo simples que retorna diretamente o valor de input sem nenhuma alteração, ou retorna 0.0 (zero) se o input é menor ou igual a 0.0 (zero)."
      ]
    },
    {
      "cell_type": "markdown",
      "metadata": {
        "id": "cYAMZANyx5iD"
      },
      "source": [
        "Podemos descrevê-la por meio de um simples if-statement:"
      ]
    },
    {
      "cell_type": "code",
      "metadata": {
        "id": "9ERWSMwgxrOU",
        "colab": {
          "base_uri": "https://localhost:8080/",
          "height": 129
        },
        "outputId": "90d45240-221f-4db8-c9cd-9665bf454222"
      },
      "source": [
        "if input > 0:\n",
        "  return input\n",
        "else:\n",
        "  return 0"
      ],
      "execution_count": null,
      "outputs": [
        {
          "output_type": "error",
          "ename": "SyntaxError",
          "evalue": "ignored",
          "traceback": [
            "\u001b[0;36m  File \u001b[0;32m\"<ipython-input-6-f55692216e8d>\"\u001b[0;36m, line \u001b[0;32m2\u001b[0m\n\u001b[0;31m    return input\u001b[0m\n\u001b[0m    ^\u001b[0m\n\u001b[0;31mSyntaxError\u001b[0m\u001b[0;31m:\u001b[0m 'return' outside function\n"
          ]
        }
      ]
    },
    {
      "cell_type": "markdown",
      "metadata": {
        "id": "7T0cBNyxx6xE"
      },
      "source": [
        "Também podemos descrevê-la utilizando a função max() sob o conjunto de zero e o input z. Por exemplo:"
      ]
    },
    {
      "cell_type": "code",
      "metadata": {
        "id": "-GbdCKVCyK8E"
      },
      "source": [
        "g(z) = max{0,z}"
      ],
      "execution_count": null,
      "outputs": []
    },
    {
      "cell_type": "markdown",
      "metadata": {
        "id": "WMpc1_P6ywpl"
      },
      "source": [
        "Podemos visualizar o formato da função ReLU abaixo:"
      ]
    },
    {
      "cell_type": "code",
      "metadata": {
        "id": "sap7mc7uy3mG"
      },
      "source": [
        "from matplotlib import pyplot\n",
        "\n",
        "def rectified(x):\n",
        "  return max(0.0, x)\n",
        "\n",
        "inputs = [x for x in range(-10,10)]\n",
        "outputs = [rectified(x) for x in inputs]\n",
        "\n",
        "pyplot.plot(inputs, outputs)\n",
        "pyplot.show()"
      ],
      "execution_count": null,
      "outputs": []
    },
    {
      "cell_type": "markdown",
      "metadata": {
        "id": "hswfrdFzzTpj"
      },
      "source": [
        "Quando utilizamos a função ReLU para as camadas escondidas, é uma boa prática usar a inicialização de pesos [He Normal](https://machinelearningmastery.com/weight-initialization-for-deep-learning-neural-networks/) e escalar os inputs para o intervalo entre 0 e 1 (normalizar) antes do treinamento."
      ]
    },
    {
      "cell_type": "markdown",
      "metadata": {
        "id": "pI93pgMuyZdd"
      },
      "source": [
        "Ou seja, a função ReL é linear para valores maiores que zero, contendo várias propriedades desejáveis de uma função de ativação linear para o treinamento de redes neurais usando o backpropagation. Mas, ao mesmo tempo, é uma função não-linear porque todos os valores negativos sempre retornam zero."
      ]
    },
    {
      "cell_type": "markdown",
      "metadata": {
        "id": "-kcVrjSr2uQ3"
      },
      "source": [
        "###**3.2 Dicas para a utilização da ReLU em CNNs** <a class=\"anchor\" name=\"section_3.2\"></a>"
      ]
    },
    {
      "cell_type": "markdown",
      "metadata": {
        "id": "PTB7wUN0GKqb"
      },
      "source": [
        "####**3.2.1 Use a ReLU como a função de ativação padrão** <a class=\"anchor\" name=\"section_3.2.1\"></a>\n",
        "\n",
        "Por muito tempo a função de ativação mais utilizada nos hidden layers foi a função sigmoide. Depois, a função tanh tornou a sigmoide obsoleta e ocupou a posição de função mais utilizada. \n",
        "\n",
        "\"*...a função de ativação tangente hiperbólica tipicamente performa melhor do que a sigmoide logística.*\"\n",
        "- [Deep Learning](https://www.amazon.com.br/Learning-Adaptive-Computation-Machine-English-ebook/dp/B08FH8Y533/ref=sr_1_2?__mk_pt_BR=%C3%85M%C3%85%C5%BD%C3%95%C3%91&crid=2F1F0PQ7HO720&dchild=1&keywords=deep+learning&qid=1626780688&sprefix=deep+lear%2Caps%2C293&sr=8-2), 2016.\n",
        "\n",
        "Mas, mesmo sendo superior à função sigmoide, a função tanh ainda sofre de vários dos mesmos problemas de sua antecessora, como vimos na seção sobre as limitações dessas funções.\n",
        "\n",
        "As redes neurais mais modernas utilizam a ReLU como função de ativação."
      ]
    },
    {
      "cell_type": "markdown",
      "metadata": {
        "id": "qegNtnJCrCFw"
      },
      "source": [
        "####**3.2.2 Teste um valor baixo para o viés (bias) no input**<a class=\"anchor\" name=\"section_3.2.2\"></a>\n",
        "\n",
        "O viés é o input no nó que possui um valor fixo. Ele tem o efeito de \"mudar\" a função de ativação e, tradicionalmente, é atribuído o valor 1 ao viés de input.\n",
        "\n",
        "Quando você for usar ReLU na sua rede, considere atribuir valores menores para o viés, como 0.1. \n",
        "\n",
        "\"*… it can be a good practice to set all elements of [the bias] to a small, positive value, such as 0.1. This makes it very likely that the rectified linear units will be initially active for most inputs in the training set and allow the derivatives to pass through.*\"\n",
        "\n",
        "Ainda existem discussões sobre este assunto. De toda forma, teste o desempenho de sua rede com diferentes valores para o viés de input."
      ]
    },
    {
      "cell_type": "markdown",
      "metadata": {
        "id": "4yjGi8wztpY6"
      },
      "source": [
        "####**3.2.3 Use a inicialização de pesos *He Initialization** <a class=\"anchor\" name=\"section_3.2.3\"></a>\n",
        "\n",
        "Antes de trinar uma rede neural, os pesos da rede devem ser inicializados com valores randômicos pequenos. \n",
        "\n",
        "Se usarmos a ReLU em nossa rede e inicializarmos os pesos com valores pequenos centrados em zero, então por volta de metade dos nós da rede terão um output de zero.\n",
        "\n",
        "Em 2015, Kaiming He publicou o artigo \"[*Delving Deep into Rectifiers: Surpassing Human-Level Performance on ImageNet Classification*](https://arxiv.org/abs/1502.01852)\" sugerindo uma modificação na bastante conhecida [*Xavier Initialization*](http://proceedings.mlr.press/v9/glorot10a.html) para torná-la adequada ao uso com a ReLU, e desde então considera-se uma boa prática o uso dessa inicialização de pesos.\n",
        "\n",
        "Para mais informações sobre as inicializações de peso, [clique aqui](https://machinelearningmastery.com/weight-initialization-for-deep-learning-neural-networks/)."
      ]
    },
    {
      "cell_type": "markdown",
      "metadata": {
        "id": "gvsDgQPHyCwN"
      },
      "source": [
        "####**3.2.4 Escale os dados de input** <a class=\"anchor\" name=\"section_3.2.4\"></a>\n",
        "\n",
        "Outra boa prática é escalar os dados antes de usar uma rede neural. Isso pode envolver a normalização das variáveis para um valor médio de zero e uma unidade de variância ou a normalização de cada valor para a escala de 0 à 1. \n",
        "\n",
        "Sem o escalamento dos dados, os pesos da rede neural podem crescer demais, tornando a rede instável e aumentando os erros de generalização."
      ]
    },
    {
      "cell_type": "markdown",
      "metadata": {
        "id": "riySNJcWye6F"
      },
      "source": [
        "####**3.2.5 Use penalidade de pesos** <a class=\"anchor\" name=\"section_3.2.5\"></a>\n",
        "\n",
        "Por design, os outputs da ReLU serão sempre valores positivos. Isso significa que, em alguns casos, os outputs podem crescer continuamente em tamanho. Assim, pode ser uma boa ideia utilizar uma forma de regularização de pesos, como a [normalização de vetores L1 e L2](https://machinelearningmastery.com/vector-norms-machine-learning/)."
      ]
    },
    {
      "cell_type": "markdown",
      "metadata": {
        "id": "PLDtySjb2kWX"
      },
      "source": [
        "###**3.3 Extensões e alternativas ao ReLU** <a class=\"anchor\" name=\"section_3.3\"></a>\n"
      ]
    },
    {
      "cell_type": "markdown",
      "metadata": {
        "id": "V0L9b6xMYDpQ"
      },
      "source": [
        "####**3.3.1 Dying ReLU** <a class=\"anchor\" name=\"section_3.3.1\"></a>\n",
        "\n",
        "A ReLU tem algumas limitações. Sua principal limitação é o caso onde grandes updates nos pesos fazem com que o somatório de ativação (z) seja sempre negativo, independentemente do input da rede.\n",
        "\n",
        "Isso significa que um nó com esse problema sempre terá um output de 0, e este problema é conhecido como \"dying ReLU\".\n",
        "\n",
        "A citação abaixo retirada do artigo [Rectifier Nonlinearities Improve Neural Network Acoustic Models](http://ai.stanford.edu/~amaas/papers/relu_hybrid_icml2013_final.pdf) explica resumidamente o problema.\n",
        "\n",
        "\"*the gradient is 0 whenever the unit is not active. This could lead to cases where a unit never activates as a gradient-based optimization algorithm will not adjust the weights of a unit that never activates initially. Further, like the vanishing gradients problem, we might expect learning to be slow when training ReL networks with constant 0 gradients.*\"\n",
        "\n",
        "Para lidar com este problema, existem algumas extensões da ReLU que \"relaxam\" a parte não-linear dos outputs para permitir pequenos valores negativos, ao invés de sempre atribuir 0."
      ]
    },
    {
      "cell_type": "markdown",
      "metadata": {
        "id": "fCOya4uBkyWd"
      },
      "source": [
        "####**3.3.2 Leaky ReLU** <a class=\"anchor\" name=\"section_3.3.2\"></a>\n",
        "\n",
        "Uma dessas extensões é a função Leaky ReLU, que modifica a ReLU de modo a permitir pequenos valores negativos quando o input da função é menor que zero.\n",
        "\n",
        "Assim como a ReLU, podemos descrevê-la com um simples if-statement:"
      ]
    },
    {
      "cell_type": "code",
      "metadata": {
        "id": "ZITu71pSlqYG"
      },
      "source": [
        "if input > 0:\n",
        "  return input\n",
        "else:\n",
        "  return 0.01 * input"
      ],
      "execution_count": null,
      "outputs": []
    },
    {
      "cell_type": "markdown",
      "metadata": {
        "id": "dlRha21clvWG"
      },
      "source": [
        "Também podemos descrevê-la utilizando a função max()"
      ]
    },
    {
      "cell_type": "code",
      "metadata": {
        "id": "dRFe21G9l3bk"
      },
      "source": [
        "g(z) = max{(0.01*z),z}"
      ],
      "execution_count": null,
      "outputs": []
    },
    {
      "cell_type": "markdown",
      "metadata": {
        "id": "GmpiamGqmH2u"
      },
      "source": [
        "Podemos visualizar o formato da função **Leaky ReLU** abaixo:"
      ]
    },
    {
      "cell_type": "code",
      "metadata": {
        "id": "73rAAuYumPnE",
        "colab": {
          "base_uri": "https://localhost:8080/",
          "height": 265
        },
        "outputId": "0c4cc963-0c1b-4f01-edc3-6f60f0b7d228"
      },
      "source": [
        "from matplotlib import pyplot\n",
        "\n",
        "def leaky_relu(x):\n",
        "  return max(0.01 * x, x)\n",
        "\n",
        "inputs = [x for x in range(-10,10)]\n",
        "outputs = [leaky_relu(x) for x in inputs]\n",
        "\n",
        "pyplot.plot(inputs, outputs)\n",
        "pyplot.show()"
      ],
      "execution_count": null,
      "outputs": [
        {
          "output_type": "display_data",
          "data": {
            "image/png": "[encoded data removed]",
            "text/plain": [
              "<Figure size 432x288 with 1 Axes>"
            ]
          },
          "metadata": {
            "tags": [],
            "needs_background": "light"
          }
        }
      ]
    },
    {
      "cell_type": "markdown",
      "metadata": {
        "id": "2qsOII8OnXUK"
      },
      "source": [
        "####**3.3.3 ELU** <a class=\"anchor\" name=\"section_3.3.3\"></a>\n",
        "\n",
        "A função ELU (Exponential Linear Unit) é uma generalização da ReLU que usa uma função exponencial parametrizada para transicionar entre os valores positivos e os pequenos valores negativos.\n",
        "\n",
        "Podemos descrevê-la com o if-statement abaixo:"
      ]
    },
    {
      "cell_type": "code",
      "metadata": {
        "id": "ksFZbHYzo3BI"
      },
      "source": [
        "if input > 0:\n",
        "  return input\n",
        "else:\n",
        "  return alpha * (np.exp(input)-1)"
      ],
      "execution_count": null,
      "outputs": []
    },
    {
      "cell_type": "markdown",
      "metadata": {
        "id": "lhuajF3Tpnfv"
      },
      "source": [
        "Podemos visualizar o formato da função **ELU** abaixo:"
      ]
    },
    {
      "cell_type": "code",
      "metadata": {
        "id": "uqB4tUxApPX9"
      },
      "source": [
        "from matplotlib import pyplot\n",
        "import numpy as np\n",
        "\n",
        "def elu(alpha, x):\n",
        "  if x > 0:\n",
        "    return x\n",
        "  else:\n",
        "    return alpha * (np.exp(x)-1)\n",
        "\n",
        "inputs = [x for x in range(-10,10)]\n",
        "alpha = 1.0\n",
        "outputs = [elu(alpha, x) for x in inputs]\n",
        "\n",
        "pyplot.plot(inputs, outputs)\n",
        "pyplot.show()"
      ],
      "execution_count": null,
      "outputs": []
    },
    {
      "cell_type": "markdown",
      "metadata": {
        "id": "L-QFgluumJAC"
      },
      "source": [
        "###**3.4 Ativação da camada de output** <a class=\"anchor\" name=\"section_3.4\"></a>\n",
        "\n",
        "Todas as funções vistas até aqui tratavam exclusivamente das camadas escondidas. Agora, apresentaremos uma função para a camada de output, onde obtemos a previsão do modelo.\n",
        "\n",
        "Existem várias funções que podem ser utilizadas na camada de output, como funções lineares, sigmoide, max, argmax, dentre outras. Porém iremos usar e explicar apenas a função **softmax**, por ser uma das mais utilizadas para problemas de classificação de imagens."
      ]
    },
    {
      "cell_type": "markdown",
      "metadata": {
        "id": "sa_qBIVosW6C"
      },
      "source": [
        "####**3.4.1 Função softmax** <a class=\"anchor\" name=\"section_3.4.1\"></a>\n",
        "\n",
        "A softmax é uma função matemática que converte um vetor de números em um vetor de probabilidades. \n",
        "\n",
        "Nos problemas de classificação de imagens, a rede é configurada para ter um output de N valores, sendo um valor para cada classe possível (i.e. uma rede que classifica imagens de cães e gatos teria dois valores de output, pois existem duas classes). A função softmax é utilizada para normalizar esses valores de output, convertendo-os para N valores de probabilidade que, somados, resultam em 1.\n",
        "\n",
        "Podemos descrevê-la por meio da função **e<sup>x</sup> / sum(e<sup>x</sup>)**"
      ]
    },
    {
      "cell_type": "markdown",
      "metadata": {
        "id": "el_AHiAB0ZZ5"
      },
      "source": [
        "Não podemos plotar o gráfico dessa função, mas abaixo temos um exemplo ilustrativo:"
      ]
    },
    {
      "cell_type": "code",
      "metadata": {
        "id": "XnpKnvWy0gm2"
      },
      "source": [
        "from numpy import exp\n",
        " \n",
        "# softmax activation function\n",
        "def softmax(x):\n",
        "\treturn exp(x) / exp(x).sum()\n",
        " \n",
        "# define input data\n",
        "inputs = [1.0, 3.0, 2.0]\n",
        "# calculate outputs\n",
        "outputs = softmax(inputs)\n",
        "# report the probabilities\n",
        "print(\"Probabilidades:\")\n",
        "print(outputs)\n",
        "# report the sum of the probabilities\n",
        "print(\"\\nSoma das probabilidades:\")\n",
        "print(outputs.sum())"
      ],
      "execution_count": null,
      "outputs": []
    },
    {
      "cell_type": "markdown",
      "metadata": {
        "id": "MzOr3F6TgHG_"
      },
      "source": [
        "##**4 Transfer Learning** <a class=\"anchor\" name=\"section_4\"></a>"
      ]
    },
    {
      "cell_type": "markdown",
      "metadata": {
        "id": "LPT9ESajbPAA"
      },
      "source": [
        "####**4.1 Introdução** <a class=\"anchor\" name=\"section_4.1\"></a>\n",
        "\n",
        "CNNs profundas podem levar dias ou até semanas para serem treinadas em grandes datasets. Uma forma de encurtar esse processo é reutilizando pesos de modelos que já foram treinados previamente em datasets padrões, como os datasets da [ImageNet](https://image-net.org/). \n",
        "\n",
        "Modelos com alto nível de performance podem ser baixados e utilizados diretamente ou integrados em um novo modelo para atender seu problema específico de visão computacional.\n",
        "\n",
        "Em deep learning, transfer learning é a técnica na qual um modelo de rede neural é primeiro treinado em um problema similar ao problema que está sendo resolvido. Uma ou mais camadas do modelo treinado são então usadas em um novo modelo, que será treinado para o problema de interesse. Isso pode ser útil quando temos muito mais dados sobre o primeiro problema e a similaridade na estrutura do problema pode ser útil para os dois contextos.\n",
        "\n",
        "A citação abaixo, do livro Deep Learning, contextualiza o conceito de transfer learning:\n",
        "\n",
        "\"*This is typically understood in a supervised learning context, where the input is the same but the target may be of a different nature. For example, we may learn about one set of visual categories, such as cats and dogs, in the first setting, then learn about a different set of visual categories, such as ants and wasps, in the second setting.*\" - [Deep Learning](https://www.amazon.com.br/Deep-Learning-Ian-Goodfellow/dp/0262035618/ref=sr_1_1?__mk_pt_BR=%C3%85M%C3%85%C5%BD%C3%95%C3%91&dchild=1&keywords=deep+learning&qid=1627901051&sr=8-1&ufe=app_do%3Aamzn1.fos.25548f35-0de7-44b3-b28e-0f56f3f96147), 2016"
      ]
    },
    {
      "cell_type": "markdown",
      "metadata": {
        "id": "Vk4APTHtlK0v"
      },
      "source": [
        "####**4.2 Transfer Learning para reconhecimento de imagens** <a class=\"anchor\" name=\"section_4.2\"></a>\n",
        "\n",
        "Uma gama de modelos de alta performance foram desenvolvidos para classificação de imagens e são publicados anualmente no ImageNet Large Scale Visual Recognition Challenge, ou ILSVRC.\n",
        "\n",
        "Esses modelos podem ser usados para transfer learning em aplicações de visão computacional.\n",
        "\n",
        "Algumas vantagens da utilização desses modelos são:\n",
        "\n",
        "\n",
        "*   **Catacterísticas úteis aprendidadas:** os modelos aprenderam a identificar características genéricas em imagens, visto que eles foram treinados sob mais de um milhão de imagens para mais de mil categorias.\n",
        "*   **Performance no estado da arte:** os modelos atingiram performances de altíssimo nível e permanecem efetivos no problema específico de reconhecimento de imagem para os quais eles foram desenvolvidos.\n",
        "*   **Fácil acesso:** Os pesos dos modelos são fornecidos gratuitamente como arquivos para download e várias bibliotecas possuem APIs que tornam possível a importação desses pesos diretamente no modelo. \n",
        "\n",
        "Podemos fazer o download dos pesos desses modelos pré-treinados e usá-los em modelos de mesma arquitetura, usando várias bibliotecas diferentes de deep learning, como a Keras, TensorFlow e PyTorch."
      ]
    },
    {
      "cell_type": "markdown",
      "metadata": {
        "id": "Ic4uxwfItiSb"
      },
      "source": [
        "####**4.3 Como usar modelos pré-treinados**  <a class=\"anchor\" name=\"section_4.3\"></a>\n",
        "\n",
        "O uso de modelos pré-treinados são limitados apenas pela sua própria criatividade.\n",
        "\n",
        "Por exemplo, podemos fazer o download de um modelo pré-treinado e utilizá-lo da forma que ele é, sem fazer alterações em sua arquitetura, para alguma aplicação de classificação de fotografias.\n",
        "\n",
        "Também podemos utilizar um modelo pré-treinado para a extração de características (*feature extraction*). Nesse caso, pegamos o output da camada anterior à camada de output, e o usamos como input para um novo modelo classificador. Em outras palavras, utilizaremos o output da penúltima camada do modelo pré-treinado como input para um novo modelo.\n",
        "\n",
        "Pode parecer um pouco confuso, mas lembre-se:\n",
        "* As camadas convolucionais, próximas a camada de input, servem para aprender características de baixo nível sobre as imagens, como linhas, bordas, etc.;\n",
        "* As camadas do meio aprendem características abstratas mais complexas, que combinam com as características de baixo nível; e\n",
        "* As camadas mais próximas ao output servem para interpretar todas essas características extraídas até então e classificá-las no contexto do problema.\n",
        "\n",
        "Tendo isso em mente, podemos escolher o nível de detalhamento que queremos usar de um modelo pré-treinado para a *feature extraction*. \n",
        "\n",
        "Por exemplo, se os objetos da nossa tarefa de classificação são muito diferentes dos objetos que o modelo pré-treinado sabe classificar, então pode ser mais apropriado usarmos apenas o output das camadas iniciais do modelo pré-treinado, já que estas extraem somente características de baixo nível. \n",
        "\n",
        "Da mesma forma, se os objetos da nossa tarefa de classificação são muito parecidos com os objetos que o modelo pré-treinado sabe classificar, então podemos usar o output de camadas mais profundas do modelo pré-treinado, ou até mesmo da camada *fully connected* (penúltima camada do modelo, anterior à camada de output), já que estas extraem características mais complexas.\n",
        "\n",
        "O modelo pré-treinado pode ser usado como um programa à parte de *feature extraction*, no qual as imagens de input podem ser pré-processadas pelo modelo, ou porção do modelo resultando em um output (vetor de números), que pode então ser usado como input para treinar um novo modelo.\n",
        "\n",
        "Uma outra alternativa é integrar o modelo pré-treinado ou uma porção do modelo pré-treinado diretamente em um novo modelo de rede neural. Nesse caso, os pesos do modelo pré-treinado podem ser congelados de forma que eles não passem por updates quando o novo modelo for treinado. \n",
        "\n",
        "Ou então, se permitirmos que os pesos sejam atualizados durante o treinamento do novo modelo, podemos atribuir um valor baixo para o *learning rate* e utilizar o modelo pré-treiando como um esquema de inicialização de pesos.\n",
        "\n",
        "Resumindo, podemos utilizar os modelos pré-treinados das seguintes maneiras:\n",
        "* **Classificador:** o modelo pré-treinado é utilizado diretamente para a classificação de imagens.\n",
        "* **Extrator de características à parte:** o modelo pré-treinado, ou parte do modelo pré-treinado, é usado para pré-processar as imagens e extrair características relevantes.\n",
        "* **Extrator de características integrado:** o modelo pré-treinado, ou parte do modelo pré-treinado, é integrado em um novo modelo, porém as camadas do modelo pré-treinado são congeladas durante o treinamento do novo modelo.\n",
        "* **Inicializador de pesos:** o modelo pré-treinado, ou parte do modelo pré-treinado, é integrado em um novo modelo, e as camadas do modelo pré-treinado são treinadas novamente, junto ao novo modelo.\n",
        "\n",
        "Cada uma dessas abordagens podem ser eficazes e nos salvar bastante tempo no desenvolvimento de CNNs.\n",
        "\n",
        "No início pode não ser tão claro qual a melhor forma de usar os modelos pré-treinados no seu problema de visão computacional, então sinta-se à vontade para fazer algumas experimentações."
      ]
    },
    {
      "cell_type": "markdown",
      "metadata": {
        "id": "Q6LeYymegKvm"
      },
      "source": [
        "##**5. Problema prático** <a class=\"anchor\" name=\"section_5\"></a>\n",
        "\n"
      ]
    },
    {
      "cell_type": "markdown",
      "metadata": {
        "id": "AzhrBLZY6zUk"
      },
      "source": [
        "Demonstraremos os conceitos abordados neste módulo com um problema prático de classificação de imagens utilizando uma CNN. \n",
        "\n",
        "Utilizaremos um modelo pré-treinado (ResNet34) para classificar imagens de cães e gatos."
      ]
    },
    {
      "cell_type": "code",
      "metadata": {
        "id": "OBGQJoy1gK3H"
      },
      "source": [
        "import os\n",
        "\n",
        "import numpy as np\n",
        "\n",
        "from matplotlib import pyplot\n",
        "\n",
        "%matplotlib inline\n",
        "\n",
        "import torch\n",
        "from torchvision import datasets\n",
        "from torchvision import transforms, models\n",
        "from torchvision.datasets import ImageFolder  \n",
        "from torch.utils.data import DataLoader, random_split\n",
        "from torch import nn\n",
        "from torch import optim\n",
        "\n",
        "import time\n",
        "transform = transforms.Compose([transforms.Resize((224,224)), transforms.ToTensor()]) # Definindo como as imagens serão transformadas para a entrada na CNN, em forma de tensores 224x224"
      ],
      "execution_count": null,
      "outputs": []
    },
    {
      "cell_type": "code",
      "metadata": {
        "colab": {
          "base_uri": "https://localhost:8080/"
        },
        "id": "ydNEnZ3f7YkN",
        "outputId": "3e951236-44ca-4170-f6ee-7e1f41374c13"
      },
      "source": [
        "from google.colab import drive\n",
        "drive.mount('/content/drive/') #Permitindo acesso ao conteúdo do Drive"
      ],
      "execution_count": null,
      "outputs": [
        {
          "output_type": "stream",
          "text": [
            "Mounted at /content/drive/\n"
          ],
          "name": "stdout"
        }
      ]
    },
    {
      "cell_type": "code",
      "metadata": {
        "id": "bRLngiPq7bAp",
        "colab": {
          "base_uri": "https://localhost:8080/"
        },
        "outputId": "d393f1a3-b3b0-4dd3-e655-3dc0e61a5278"
      },
      "source": [
        "data = ImageFolder('/content/drive/My Drive/IMLDL/Data', transform=transform) # Obtendo as imagens a partir do Drive e aplicando a transformação\n",
        "print('Total de imagens no dataset:', len(data))"
      ],
      "execution_count": null,
      "outputs": [
        {
          "output_type": "stream",
          "text": [
            "Total de imagens no dataset: 2412\n"
          ],
          "name": "stdout"
        }
      ]
    },
    {
      "cell_type": "code",
      "metadata": {
        "id": "3LWmbGcz7a-Z",
        "colab": {
          "base_uri": "https://localhost:8080/"
        },
        "outputId": "37d5236f-5efa-44c9-aca7-1318ba15a097"
      },
      "source": [
        "def testar_gpu():\n",
        "\ttrain_on_gpu = torch.cuda.is_available() \n",
        "\tif train_on_gpu: \n",
        "\t\tdevice = torch.device('cuda') \n",
        "\t\tprint(\"Treinando na GPU\") \n",
        "\telse: \n",
        "\t\tdevice = torch.device('cpu') \n",
        "\t\tprint(\"GPU indisponível, treinando na CPU\")\n",
        "\treturn device\n",
        "\n",
        "device = testar_gpu()"
      ],
      "execution_count": null,
      "outputs": [
        {
          "output_type": "stream",
          "text": [
            "GPU indisponível, treinando na CPU\n"
          ],
          "name": "stdout"
        }
      ]
    },
    {
      "cell_type": "code",
      "metadata": {
        "id": "ipiZZmq27a8C",
        "colab": {
          "base_uri": "https://localhost:8080/"
        },
        "outputId": "7bef1b75-bf0f-4af2-c66d-fcdf34b7579c"
      },
      "source": [
        "print('Total de imagens no dataset:', len(data))\n",
        "percentage = 60 \n",
        "n_treino = round(len(data)* (percentage/100)) # Definindo a quantidade das imagens no DataSet que serão usadas para Treino\n",
        "\n",
        "n_teste = round(len(data)* (100 - percentage)/(2*100)) # Definindo a quantidade das imagens no DataSet que serão usadas para Teste\n",
        "n_valid = len(data) - n_treino - n_teste # Definindo a quantidade das imagens no DataSet que serão usadas para Validação\n",
        "\n",
        "print('nº de imagens para treino: {:}'.format(n_treino) +'; nº de imagens para teste: {:}'.format(n_teste) +'; nº de imagens para validação: {:}'.format(n_valid) + '.')\n",
        "data_train, data_test, data_valid = random_split(data, [n_treino, n_teste, n_valid]) #Aplicando a divisão de Dataset pegando as imagens de posições aleatórias no Dataset original"
      ],
      "execution_count": null,
      "outputs": [
        {
          "output_type": "stream",
          "text": [
            "Total de imagens no dataset: 2412\n",
            "nº de imagens para treino: 1447; nº de imagens para teste: 482; nº de imagens para validação: 483.\n"
          ],
          "name": "stdout"
        }
      ]
    },
    {
      "cell_type": "code",
      "metadata": {
        "id": "dfnv3eDQ7a4h"
      },
      "source": [
        "batch_size = 100 #Definindo em quantos batches as entradas serão divididas \n",
        "loader_train, loader_test, loader_valid = DataLoader(data_train, batch_size=batch_size), DataLoader(data_test, batch_size=1), DataLoader(data_valid, batch_size=1)"
      ],
      "execution_count": null,
      "outputs": []
    },
    {
      "cell_type": "code",
      "metadata": {
        "id": "Ap9NaamY7a1k"
      },
      "source": [
        "def importNN():\n",
        "\n",
        "    \"\"\"\n",
        "    Importa uma rede neural pré-treinada (Resnet34) e faz as adequações \n",
        "    necessárias para adaptá-la ao problema proposto. \n",
        "\n",
        "    Retorna\n",
        "    -------------\n",
        "    model : torchvision.models.resnet.ResNet\n",
        "        Variável que deve ser retornada com o modelo de rede pré-treinada \n",
        "        importado e adaptado ao problema.\n",
        "    \"\"\"\n",
        "\n",
        "    model=0\n",
        "    classifier = 0 \n",
        "\n",
        "    model = models.resnet34(pretrained=True) # Importando uma rede neural pretreinada\n",
        "  \n",
        "    for param in model.parameters():\n",
        "          param.requires_grad = False #Desativando a checagem dos gradiente para reduzir o custo computacional\n",
        "\n",
        "          # Alterando a arquitetura da porção classificadora da CNN\n",
        "          classifier = nn.Sequential(nn.Linear(512,256), # Definindo o número de entradas e de saídas da primera camada da porção classificadora da CNN\n",
        "                                      nn.ReLU(), # Definindo a função de ativação\n",
        "                                      nn.Dropout(p=0.2),\n",
        "                                      nn.Linear(256,2), # Definindo o número de entradas e de saídas da última camada da porção classificadora da CNN\n",
        "                                      nn.Softmax(dim=1)) #Aplicando a função de ativação Softmax na camada de output\n",
        "    \n",
        "    model.fc = classifier  \n",
        "\n",
        "    return model"
      ],
      "execution_count": null,
      "outputs": []
    },
    {
      "cell_type": "code",
      "metadata": {
        "id": "fC6IYsDV7ay3",
        "colab": {
          "base_uri": "https://localhost:8080/",
          "height": 83,
          "referenced_widgets": [
            "e23b1fe1e61c43adb31065e57a4d9a05",
            "7786c27da252499ebc69754b7153ad72",
            "3a798cef2347469bb45cf6629a483ad6",
            "c9482d99b0fe4c3b9bbcf6cffa3b9cb8",
            "a2d7f80ab3f04f21858aebf93eea9c61",
            "866661525d8743be886c7d5a220aafdb",
            "6b56c979645f4998b820371afa53404e",
            "72ebd3f42a284b52ae455ba181d77490"
          ]
        },
        "outputId": "327ffeda-ab17-4179-8e05-fe0fc2273b64"
      },
      "source": [
        "model = importNN().to(device) "
      ],
      "execution_count": null,
      "outputs": [
        {
          "output_type": "stream",
          "text": [
            "Downloading: \"https://download.pytorch.org/models/resnet34-b627a593.pth\" to /root/.cache/torch/hub/checkpoints/resnet34-b627a593.pth\n"
          ],
          "name": "stderr"
        },
        {
          "output_type": "display_data",
          "data": {
            "application/vnd.jupyter.widget-view+json": {
              "model_id": "e23b1fe1e61c43adb31065e57a4d9a05",
              "version_minor": 0,
              "version_major": 2
            },
            "text/plain": [
              "HBox(children=(FloatProgress(value=0.0, max=87319819.0), HTML(value='')))"
            ]
          },
          "metadata": {
            "tags": []
          }
        },
        {
          "output_type": "stream",
          "text": [
            "\n"
          ],
          "name": "stdout"
        }
      ]
    },
    {
      "cell_type": "code",
      "metadata": {
        "id": "16WQIsEn7qcc"
      },
      "source": [
        "def define(model, lr):\n",
        "\n",
        "    criterion = nn.NLLLoss() #Função de perda escolhida: NLLLoss (negative log likelihood loss)\n",
        "\n",
        "    optimizer = torch.optim.SGD(model.fc.parameters(), lr=lr, momentum=0.9, weight_decay=0.005) #Parâmetros otimizadores escolhidos para o gradiente descendente: momentum de 0.9 e weight decay de 0.005\n",
        "\n",
        "    return optimizer, criterion"
      ],
      "execution_count": null,
      "outputs": []
    },
    {
      "cell_type": "code",
      "metadata": {
        "id": "rUnQat8c7qaE"
      },
      "source": [
        "def train_test(model, loader_train, loader_test): #definindo função de treino\n",
        "\n",
        "\t\t\"\"\"\n",
        "\t\tTreina os parâmetros da(s) camada(s) \"fully connected\" da rede contida em \n",
        "\t\t'model' com os exemplos contidos em 'data_train' (organizados por \n",
        "\t\t'train_loader'). Em seguida, testa a acurácia e o erro de classificação da \n",
        "\t\trede com os exemplos contidos em 'data_test' (organizados por \n",
        "\t\t'loader_test').\n",
        "\t\t\n",
        "\t\tParâmetros\n",
        "\t\t-------------\n",
        "\t\tmodel : torchvision.models\n",
        "        Variável que contém o modelo de rede pré-treinada importado e adaptado \n",
        "        ao problema.\n",
        "    loader_train: torch.utils.data.dataloader.DataLoader\n",
        "        Variável responsável por organizar e carregar os dados relacionados aos\n",
        "        exemplos de treino ('data_train') conforme definimos anteriormente.\n",
        "    loader_test: torch.utils.data.dataloader.DataLoader\n",
        "        Variável responsável por organizar e carregar os dados relacionados aos\n",
        "        exemplos de teste ('data_test') conforme definimos anteriormente.\n",
        "    \"\"\"\n",
        "\n",
        "  train_loss,test_loss,acc =0,0,0 \n",
        "\n",
        "  model.train()\n",
        "  for imagem_treino,label_treino in loader_train:\n",
        "\n",
        "    loss = 0\n",
        "    imagem_treino, label_treino = imagem_treino.float().to(device), label_treino.to(device)\n",
        "    outputs = model(imagem_treino)\n",
        "    loss = criterion(outputs, label_treino.float().long())\n",
        "    \n",
        "    optimizer.zero_grad() #Zera o gradiente\n",
        "    loss.backward() #Realiza o backpropagation\n",
        "    optimizer.step() #Dá mais um passo dentro do gradiente\n",
        "    train_loss += loss\n",
        "\t\n",
        "  train_loss = train_loss/len(loader_train)\n",
        "\n",
        "  model.eval()\n",
        "  correct = 0\n",
        "  total = 0\n",
        "  test_loss = 0\n",
        "\t\n",
        "  with torch.no_grad():\n",
        "\t  for imagem_teste, label_teste in loader_test:\n",
        "\n",
        "\t\t  imagem_teste, label_teste = imagem_teste.float().to(device), label_teste.to(device)\n",
        "\t\t  outputs_test = model(imagem_teste)\n",
        "\t \n",
        "\t\t  _,previsao = torch.max(outputs_test, dim = 1)\n",
        "\t\t  test_loss += criterion(outputs_test, label_teste.long())\n",
        "\t\t  total = total + 1\n",
        "\t\t\t\n",
        "\t\t  if previsao == label_teste: \n",
        "\t\t    correct = correct + 1\n",
        "\t\t\n",
        "\t  test_loss = test_loss/len(loader_test)\n",
        "\n",
        "\t  acc = (correct/total)*100\n",
        "\t \n",
        "\n",
        "  return train_loss, test_loss, acc"
      ],
      "execution_count": null,
      "outputs": []
    },
    {
      "cell_type": "code",
      "metadata": {
        "id": "2s5G5zcB7qWv",
        "colab": {
          "base_uri": "https://localhost:8080/"
        },
        "outputId": "0dbd6599-32ca-495a-ca38-659f6cf66af9"
      },
      "source": [
        "START = time.time()\n",
        "\n",
        "list_train_loss = []\n",
        "list_test_loss = []\n",
        "list_acc = []\n",
        "time1epoch = 0\n",
        "\n",
        "lr = 0.005 #Definindo o learning rate\n",
        "epochs = 10 #Definindo a quantidade de epochs\n",
        "optimizer, criterion = define(model, lr)\n",
        "\n",
        "for epoch in range(1, epochs+1):\n",
        "  start = time.time()\n",
        "  train_loss, test_loss, acc = train_test(model, loader_train, loader_test)\n",
        "  end = time.time()\n",
        "\n",
        "  list_train_loss.append(train_loss), list_test_loss.append(test_loss), list_acc.append(acc)\n",
        "\n",
        "  Time = end - start\n",
        "  if epoch == 1:\n",
        "    time1epoch = Time\n",
        "\n",
        "  if epoch < 10:\n",
        "    print('Epoch: ', epoch ,' perda: {:.4f}'.format(test_loss.item()), ' Acurácia: {:.2f}'.format(acc), ' Tempo utilizado nesta epoch: {:.2f}'.format(Time), 'segundos.')\n",
        "  else:\n",
        "    print('Epoch:', epoch ,' perda: {:.4f}'.format(test_loss.item()), ' Acurácia: {:.2f}'.format(acc), ' Tempo utilizado nesta epoch: {:.2f}'.format(Time), 'segundos.')\n",
        "END = time.time()\n",
        "\n",
        "print()\n",
        "TIME = (END - START) - time1epoch\n",
        "print('\\n Tempo usado para o treino, excluindo a primeira epoch: {:.2f}'.format(TIME), 'segundos.')\t\t"
      ],
      "execution_count": null,
      "outputs": [
        {
          "output_type": "stream",
          "text": [
            "Epoch:  1  perda: -0.7778  Acurácia: 95.23  Tempo utilizado nesta epoch: 589.36 segundos.\n",
            "Epoch:  2  perda: -0.9219  Acurácia: 97.51  Tempo utilizado nesta epoch: 290.60 segundos.\n",
            "Epoch:  3  perda: -0.9578  Acurácia: 98.55  Tempo utilizado nesta epoch: 292.47 segundos.\n",
            "Epoch:  4  perda: -0.9711  Acurácia: 98.96  Tempo utilizado nesta epoch: 289.34 segundos.\n",
            "Epoch:  5  perda: -0.9768  Acurácia: 99.17  Tempo utilizado nesta epoch: 290.42 segundos.\n",
            "Epoch:  6  perda: -0.9795  Acurácia: 99.38  Tempo utilizado nesta epoch: 291.27 segundos.\n",
            "Epoch:  7  perda: -0.9812  Acurácia: 99.38  Tempo utilizado nesta epoch: 290.36 segundos.\n",
            "Epoch:  8  perda: -0.9833  Acurácia: 99.38  Tempo utilizado nesta epoch: 290.14 segundos.\n",
            "Epoch:  9  perda: -0.9840  Acurácia: 99.38  Tempo utilizado nesta epoch: 289.23 segundos.\n",
            "Epoch: 10  perda: -0.9850  Acurácia: 99.38  Tempo utilizado nesta epoch: 289.50 segundos.\n",
            "\n",
            "\n",
            " Tempo usado para o treino, excluindo a primeira epoch: 2613.34 segundos.\n"
          ],
          "name": "stdout"
        }
      ]
    },
    {
      "cell_type": "code",
      "metadata": {
        "id": "Md-ZbRxK7qSO",
        "colab": {
          "base_uri": "https://localhost:8080/",
          "height": 585
        },
        "outputId": "2c28cce2-1792-44d5-831e-f7896bdb0758"
      },
      "source": [
        "fig, axs = pyplot.subplots(2, figsize=(15,8))\n",
        "axs[0].plot(range(1, epochs+1), list_train_loss,label=\"Perda no treino\") \n",
        "axs[0].plot(range(1, epochs+1), list_test_loss, label=\"Perda no teste\")\n",
        "axs[0].set(xticks=range(1, epochs+1))\n",
        "axs[0].set_title('Perdas x Epochs') \n",
        "axs[0].set(xlabel='Epochs') \n",
        "axs[0].set(ylabel='Perdas') \n",
        "axs[0].legend() \n",
        "axs[0].grid(True) \n",
        "\n",
        "axs[1].plot(range(1, epochs+1), list_acc, label='Acurácia') \n",
        "axs[1].set(xticks=range(1, epochs+1))\n",
        "axs[1].set_title('Acurácia x epochs') \n",
        "axs[1].set(xlabel='Epochs') \n",
        "axs[1].set(ylabel='Acurácia (%)') \n",
        "axs[1].legend(loc='lower right')\n",
        "axs[1].grid(True) \n",
        "\n",
        "pyplot.tight_layout()"
      ],
      "execution_count": null,
      "outputs": [
        {
          "output_type": "display_data",
          "data": {
            "image/png": "[encoded data removed]",
            "text/plain": [
              "<Figure size 1080x576 with 2 Axes>"
            ]
          },
          "metadata": {
            "tags": [],
            "needs_background": "light"
          }
        }
      ]
    },
    {
      "cell_type": "code",
      "metadata": {
        "id": "oHnLgDBN7ava",
        "colab": {
          "base_uri": "https://localhost:8080/"
        },
        "outputId": "9dc95af0-12d9-4814-c4bc-e56d2d6d9ec6"
      },
      "source": [
        "total = 0\n",
        "correct = 0\n",
        "loss_valid = 0\n",
        "\n",
        "for imagem_valid, label_valid in loader_valid:\n",
        "\n",
        "\tloss_v = 0\n",
        "\n",
        "\timagem_valid, label_valid = imagem_valid.float().to(device), label_valid.to(device)\n",
        "\toutputs_valid = model(imagem_valid)\n",
        "\t_, previsao = torch.max(outputs_valid, dim = 1)\n",
        "\tloss_v = criterion (outputs_valid, label_valid.long())\n",
        "\ttotal = total + 1 \n",
        "\tif previsao == label_valid: \n",
        "\t\tcorrect = correct + 1 \n",
        "\tloss_valid += loss_v\n",
        "\n",
        "loss_valid = loss_valid/len(loader_valid)\n",
        "accuracy = (correct/total)*100 \n",
        "\n",
        "print('A acurácia obtida foi de: {:.2f}'.format(accuracy) + '%.')\n",
        "print()\n",
        "print('O erro médio obtido foi de: {:.4f}'.format(loss_valid))\n",
        "print()\n",
        "print('O tempo gasto durante o treinamento, excluindo a primeira época, foi de: {:.2f}'.format(TIME), 'segundos.')\n",
        "print()"
      ],
      "execution_count": null,
      "outputs": [
        {
          "output_type": "stream",
          "text": [
            "A acurácia obtida foi de: 99.59%.\n",
            "\n",
            "O erro médio obtido foi de: -0.9872\n",
            "\n",
            "O tempo gasto durante o treinamento, excluindo a primeira época, foi de: 2613.34 segundos.\n",
            "\n"
          ],
          "name": "stdout"
        }
      ]
    },
    {
      "cell_type": "markdown",
      "metadata": {
        "id": "YXdYScB8uOKI"
      },
      "source": [
        "##**6. Sugestões** <a class=\"anchor\" name=\"section_6\"></a>\n",
        "\n"
      ]
    },
    {
      "cell_type": "markdown",
      "metadata": {
        "id": "3l82eY48uo8w"
      },
      "source": [
        "1. Altere a arquitetura da rede pré-treinada e compare os resultados. \n",
        "2. Altere a função de ativação das camadas escondidas.\n",
        "3. Altere os parâmetros (learning rate, quantidade de epochs, função de perda). \n",
        "\n",
        "\n"
      ]
    },
    {
      "cell_type": "markdown",
      "metadata": {
        "id": "oq-VFqtWDSIU"
      },
      "source": [
        "##**7. Referências Bibliográficas** <a class=\"anchor\" name=\"section_7\"></a>"
      ]
    },
    {
      "cell_type": "markdown",
      "metadata": {
        "id": "RWD3qfG-Dp7T"
      },
      "source": [
        "- [Medium.com](https://medium.com/analytics-vidhya/your-handbook-to-convolutional-neural-networks-628782b68f7e)\n",
        "- [towardsdatascience.com (1)](https://towardsdatascience.com/understanding-cnn-convolutional-neural-network-69fd626ee7d4)\n",
        "- [towardsdatascience.com (2)](https://towardsdatascience.com/a-comprehensive-guide-to-convolutional-neural-networks-the-eli5-way-3bd2b1164a53)\n",
        "- [deeplizard](https://www.youtube.com/watch?v=YRhxdVk_sIs)\n",
        "- [ashokrahulgade.com](http://www.ashokrahulgade.com/skills/DL/CNN/Introduction.html)\n",
        "- [A Gentle Introduction to the Rectified Linear Unit (ReLU) ](https://machinelearningmastery.com/rectified-linear-activation-function-for-deep-learning-neural-networks/)\n",
        "- [How to Choose an Activation Function for Deep Learning](https://machinelearningmastery.com/choose-an-activation-function-for-deep-learning/)\n",
        "- [Rectifier Nonlinearities Improve Neural Network Acoustic Models](http://ai.stanford.edu/~amaas/papers/relu_hybrid_icml2013_final.pdf)\n",
        "- [How to Fix the Vanishing Gradients Problem Using the ReLU](https://machinelearningmastery.com/how-to-fix-vanishing-gradients-using-the-rectified-linear-activation-function/)\n",
        "- [Transfer Learning in Keras with Computer Vision Models](https://machinelearningmastery.com/how-to-use-transfer-learning-when-developing-convolutional-neural-network-models/)\n",
        "- [Deep Learning](https://www.amazon.com.br/Deep-Learning-Ian-Goodfellow/dp/0262035618/ref=sr_1_1?__mk_pt_BR=%C3%85M%C3%85%C5%BD%C3%95%C3%91&dchild=1&keywords=deep+learning&qid=1628516539&sr=8-1&ufe=app_do%3Aamzn1.fos.25548f35-0de7-44b3-b28e-0f56f3f96147)\n"
      ]
    }
  ]
}